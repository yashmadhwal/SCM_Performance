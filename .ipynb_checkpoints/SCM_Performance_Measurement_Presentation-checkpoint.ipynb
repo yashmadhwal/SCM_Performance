{
 "cells": [
  {
   "cell_type": "markdown",
   "metadata": {
    "slideshow": {
     "slide_type": "slide"
    }
   },
   "source": [
    "# Part 1:  Initialize Environment"
   ]
  },
  {
   "cell_type": "code",
   "execution_count": 119,
   "metadata": {
    "slideshow": {
     "slide_type": "slide"
    }
   },
   "outputs": [],
   "source": [
    "# Importing libraries\n",
    "from web3 import Web3\n",
    "import ast\n",
    "import random\n",
    "from prettytable import PrettyTable\n",
    "import json"
   ]
  },
  {
   "cell_type": "markdown",
   "metadata": {
    "slideshow": {
     "slide_type": "slide"
    }
   },
   "source": [
    "### Connecting to Ganache\n",
    "\n",
    "<p>Ganache is a personal blockchain for rapid Ethereum and Corda distributed application development.</p>\n",
    "\n",
    "![](GanacheScreenShot.png)"
   ]
  },
  {
   "cell_type": "code",
   "execution_count": 120,
   "metadata": {
    "slideshow": {
     "slide_type": "slide"
    }
   },
   "outputs": [
    {
     "name": "stdout",
     "output_type": "stream",
     "text": [
      "isConnected to Ganache: True\n"
     ]
    }
   ],
   "source": [
    "# Connect to Ganache\n",
    "from web3 import Web3\n",
    "web3 = Web3(Web3.HTTPProvider('HTTP://127.0.0.1:7545'))\n",
    "print(\"isConnected to Ganache:\",web3.isConnected())\n"
   ]
  },
  {
   "cell_type": "code",
   "execution_count": 121,
   "metadata": {
    "slideshow": {
     "slide_type": "slide"
    }
   },
   "outputs": [
    {
     "name": "stdout",
     "output_type": "stream",
     "text": [
      "0x1758C31E73352b6bD21006583ad6B27Fefa2a7B6\n",
      "0xBd382A52B6F43b50482a1A856B169fd642E35F93\n",
      "0xD17Cb37B1100fDff218Eda7cab7A1C751f54f555\n",
      "0x0CaAEAA10E77bAa5D6b6A3b939484E72a19Ea5DE\n",
      "0xF35A02aB7C7Ba39346DC79D423aF9873599930ed\n",
      "0xC715231fCd87B26e610753f396db5A70e4B8338B\n"
     ]
    }
   ],
   "source": [
    "#gettin lists of accounts available, Account[0] will be like an auditor account\n",
    "accounts_list = web3.eth.accounts\n",
    "for i in accounts_list:\n",
    "    print(i)"
   ]
  },
  {
   "cell_type": "code",
   "execution_count": 122,
   "metadata": {
    "slideshow": {
     "slide_type": "slide"
    }
   },
   "outputs": [
    {
     "name": "stdout",
     "output_type": "stream",
     "text": [
      "Buyer's Address: 0x1758C31E73352b6bD21006583ad6B27Fefa2a7B6\n"
     ]
    }
   ],
   "source": [
    "#Receiver's Address will be first from the list\n",
    "receiver_address = accounts_list[0]\n",
    "print(\"Buyer's Address:\",receiver_address)\n"
   ]
  },
  {
   "cell_type": "code",
   "execution_count": 123,
   "metadata": {
    "slideshow": {
     "slide_type": "slide"
    }
   },
   "outputs": [
    {
     "name": "stdout",
     "output_type": "stream",
     "text": [
      "Seller's Address: 0xBd382A52B6F43b50482a1A856B169fd642E35F93\n"
     ]
    }
   ],
   "source": [
    "#Senders Address will be second from the list\n",
    "sender_address = accounts_list[1]\n",
    "print(\"Seller's Address:\",sender_address)"
   ]
  },
  {
   "cell_type": "markdown",
   "metadata": {
    "slideshow": {
     "slide_type": "slide"
    }
   },
   "source": [
    "# Part 2:  Initialize Blockchain Environment"
   ]
  },
  {
   "cell_type": "code",
   "execution_count": 124,
   "metadata": {
    "slideshow": {
     "slide_type": "slide"
    }
   },
   "outputs": [],
   "source": [
    "with open('build/contracts/TradingAgreement.json') as f:\n",
    "  migration = json.load(f)\n",
    "\n",
    "migration_contract = migration['networks']['5777']['address']\n",
    "migration_abi = migration['abi']\n",
    "\n",
    "# print(migration_contract)\n",
    "# print(migration_abi)"
   ]
  },
  {
   "cell_type": "code",
   "execution_count": 125,
   "metadata": {},
   "outputs": [],
   "source": [
    "#Deploy Instance with: \n",
    "#truffle migrate 0xdf261C6f71D739b70Ab9877541b3C821AD027Ac6  1577858400 1609426800"
   ]
  },
  {
   "cell_type": "code",
   "execution_count": 126,
   "metadata": {
    "slideshow": {
     "slide_type": "slide"
    }
   },
   "outputs": [],
   "source": [
    "contract_instance = web3.eth.contract(abi=migration_abi, address=migration_contract)"
   ]
  },
  {
   "cell_type": "markdown",
   "metadata": {
    "slideshow": {
     "slide_type": "slide"
    }
   },
   "source": [
    "#### Some Basic Information about the company (call function(s))"
   ]
  },
  {
   "cell_type": "code",
   "execution_count": 127,
   "metadata": {
    "slideshow": {
     "slide_type": "slide"
    }
   },
   "outputs": [
    {
     "name": "stdout",
     "output_type": "stream",
     "text": [
      "\n",
      "OwnerCompany : 0x1758C31E73352b6bD21006583ad6B27Fefa2a7B6\n",
      "OwnerAddress : Rob's Company\n",
      "\n",
      "SenderCompany: Sally's Company\n",
      "SenderAddress: 0xBd382A52B6F43b50482a1A856B169fd642E35F93\n",
      "\n"
     ]
    }
   ],
   "source": [
    "#Information about sender and receiver\n",
    "\n",
    "print(f'''\n",
    "OwnerCompany : {contract_instance.functions.ownerReceiver().call()}\n",
    "OwnerAddress : {contract_instance.functions.ownerCompanyName().call()}\n",
    "\n",
    "SenderCompany: {contract_instance.functions.senderCompanyName().call()}\n",
    "SenderAddress: {contract_instance.functions.senderAddress().call()}\n",
    "''')"
   ]
  },
  {
   "cell_type": "code",
   "execution_count": 128,
   "metadata": {
    "slideshow": {
     "slide_type": "slide"
    }
   },
   "outputs": [
    {
     "name": "stdout",
     "output_type": "stream",
     "text": [
      "\n",
      "\n",
      "T_Deployment    : 0\n",
      "T_start         : 1577858400\n",
      "T_end           : 1609426800\n",
      "\n",
      "time_slot       : 10\n",
      "\n",
      "orderPerSlot    : 2\n",
      "N_min           : 2 //orderPerSlot;\n",
      "N_max           : 6313680 //orderPerSlot * ((T_end-T_start)/time_slot);\n",
      "\n",
      "T_agreement     : 10\n",
      "\n",
      "timeProcessOrder: 2\n",
      "\n"
     ]
    }
   ],
   "source": [
    "#Other constructor Information\n",
    "\n",
    "print(f'''\n",
    "\n",
    "T_Deployment    : {contract_instance.functions.T_Deployment().call()}\n",
    "T_start         : {contract_instance.functions.T_start().call()}\n",
    "T_end           : {contract_instance.functions.T_end().call()}\n",
    "\n",
    "time_slot       : {contract_instance.functions.time_slot().call()}\n",
    "\n",
    "orderPerSlot    : {contract_instance.functions.orderPerSlot().call()}\n",
    "N_min           : {contract_instance.functions.N_min().call()} //orderPerSlot;\n",
    "N_max           : {contract_instance.functions.N_max().call()} //orderPerSlot * ((T_end-T_start)/time_slot);\n",
    "\n",
    "T_agreement     : {contract_instance.functions.T_agreement().call()}\n",
    "\n",
    "timeProcessOrder: {contract_instance.functions.timeProcessOrder().call()}\n",
    "''')"
   ]
  },
  {
   "cell_type": "markdown",
   "metadata": {
    "slideshow": {
     "slide_type": "slide"
    }
   },
   "source": [
    "# Part 3: Making Orders"
   ]
  },
  {
   "cell_type": "code",
   "execution_count": 11,
   "metadata": {
    "slideshow": {
     "slide_type": "skip"
    }
   },
   "outputs": [
    {
     "name": "stderr",
     "output_type": "stream",
     "text": [
      "IOPub data rate exceeded.\n",
      "The notebook server will temporarily stop sending output\n",
      "to the client in order to avoid crashing it.\n",
      "To change this limit, set the config variable\n",
      "`--NotebookApp.iopub_data_rate_limit`.\n",
      "\n",
      "Current values:\n",
      "NotebookApp.iopub_data_rate_limit=1000000.0 (bytes/sec)\n",
      "NotebookApp.rate_limit_window=3.0 (secs)\n",
      "\n"
     ]
    }
   ],
   "source": [
    "#Making 20 orders\n",
    "#let all have same OrderTime = 11,12 for now and and let fix ETA = 16,17 lets say.\n",
    "#with pair wise incrementation\n",
    "time_start = contract_instance.functions.T_start().call()\n",
    "time_end = contract_instance.functions.T_end().call()\n",
    "\n",
    "orderTime = [(i,i+1) for i in range(time_start + 1,time_end,10)]\n",
    "print(\"Slot wise OrderTime:\",orderTime)"
   ]
  },
  {
   "cell_type": "code",
   "execution_count": 12,
   "metadata": {
    "slideshow": {
     "slide_type": "skip"
    }
   },
   "outputs": [
    {
     "name": "stderr",
     "output_type": "stream",
     "text": [
      "IOPub data rate exceeded.\n",
      "The notebook server will temporarily stop sending output\n",
      "to the client in order to avoid crashing it.\n",
      "To change this limit, set the config variable\n",
      "`--NotebookApp.iopub_data_rate_limit`.\n",
      "\n",
      "Current values:\n",
      "NotebookApp.iopub_data_rate_limit=1000000.0 (bytes/sec)\n",
      "NotebookApp.rate_limit_window=3.0 (secs)\n",
      "\n"
     ]
    }
   ],
   "source": [
    "etaTime = [(j,j+1) for j in range(time_start + 6 ,time_end,10)]\n",
    "print(\"Slot wise ETA:\",etaTime)"
   ]
  },
  {
   "cell_type": "code",
   "execution_count": 13,
   "metadata": {
    "slideshow": {
     "slide_type": "skip"
    }
   },
   "outputs": [
    {
     "name": "stderr",
     "output_type": "stream",
     "text": [
      "IOPub data rate exceeded.\n",
      "The notebook server will temporarily stop sending output\n",
      "to the client in order to avoid crashing it.\n",
      "To change this limit, set the config variable\n",
      "`--NotebookApp.iopub_data_rate_limit`.\n",
      "\n",
      "Current values:\n",
      "NotebookApp.iopub_data_rate_limit=1000000.0 (bytes/sec)\n",
      "NotebookApp.rate_limit_window=3.0 (secs)\n",
      "\n"
     ]
    }
   ],
   "source": [
    "#executing 20 orders\n",
    "orderTime_Temp = []\n",
    "for i in orderTime:\n",
    "    for j in list(i):\n",
    "        orderTime_Temp.append(j)\n",
    "\n",
    "etaTime_Temp = []\n",
    "for y in etaTime:\n",
    "    for z in list(y):\n",
    "        etaTime_Temp.append(z)\n",
    "\n",
    "OrderEtalist= list(zip(orderTime_Temp,etaTime_Temp))\n",
    "print(OrderEtalist)"
   ]
  },
  {
   "cell_type": "code",
   "execution_count": 14,
   "metadata": {
    "slideshow": {
     "slide_type": "slide"
    }
   },
   "outputs": [
    {
     "name": "stdout",
     "output_type": "stream",
     "text": [
      "order_per_slot: 2\n",
      "total_slots: 10\n",
      "\n"
     ]
    }
   ],
   "source": [
    "#Making Transaction (orders 2 * (time_end - timestart)/10) \n",
    "order_per_slot = contract_instance.functions.orderPerSlot().call()\n",
    "total_slots = contract_instance.functions.total_Slots().call()\n",
    "print('order_per_slot:',order_per_slot)\n",
    "print('total_slots:',total_slots)\n",
    "print()\n",
    "\n",
    "order_schedule_list = []\n",
    "for i in range(1,total_slots+1):\n",
    "    for j in range(order_per_slot):\n",
    "        order_schedule_list.append(i)\n"
   ]
  },
  {
   "cell_type": "code",
   "execution_count": 15,
   "metadata": {
    "slideshow": {
     "slide_type": "slide"
    }
   },
   "outputs": [
    {
     "name": "stdout",
     "output_type": "stream",
     "text": [
      "Parameters: Time slot | Time_of_order | ETA\n",
      "+-----------+----------+---------------+------------+\n",
      "| Serial No | TimeSlot | Time_of_order |    ETA     |\n",
      "+-----------+----------+---------------+------------+\n",
      "|     1     |    1     |   1577858401  | 1577858406 |\n",
      "|     2     |    1     |   1577858402  | 1577858407 |\n",
      "|     3     |    2     |   1577858411  | 1577858416 |\n",
      "|     4     |    2     |   1577858412  | 1577858417 |\n",
      "|     5     |    3     |   1577858421  | 1577858426 |\n",
      "|     6     |    3     |   1577858422  | 1577858427 |\n",
      "|     7     |    4     |   1577858431  | 1577858436 |\n",
      "|     8     |    4     |   1577858432  | 1577858437 |\n",
      "|     9     |    5     |   1577858441  | 1577858446 |\n",
      "|     10    |    5     |   1577858442  | 1577858447 |\n",
      "|     11    |    6     |   1577858451  | 1577858456 |\n",
      "|     12    |    6     |   1577858452  | 1577858457 |\n",
      "|     13    |    7     |   1577858461  | 1577858466 |\n",
      "|     14    |    7     |   1577858462  | 1577858467 |\n",
      "|     15    |    8     |   1577858471  | 1577858476 |\n",
      "|     16    |    8     |   1577858472  | 1577858477 |\n",
      "|     17    |    9     |   1577858481  | 1577858486 |\n",
      "|     18    |    9     |   1577858482  | 1577858487 |\n",
      "+-----------+----------+---------------+------------+\n"
     ]
    }
   ],
   "source": [
    "\n",
    "table = PrettyTable(['Serial No','TimeSlot', 'Time_of_order', 'ETA'])\n",
    "\n",
    "print('Parameters: Time slot | Time_of_order | ETA')\n",
    "\n",
    "for k,i in enumerate(list(zip(order_schedule_list,OrderEtalist))[:-2]):\n",
    "    table.add_row([k+1,i[0],i[1][0],i[1][1]])\n",
    "    contract_instance.functions.orderConsignment(i[0],i[1][0],i[1][1]).transact({'from':receiver_address})\n",
    "print(table)"
   ]
  },
  {
   "cell_type": "code",
   "execution_count": 16,
   "metadata": {
    "slideshow": {
     "slide_type": "slide"
    }
   },
   "outputs": [
    {
     "name": "stdout",
     "output_type": "stream",
     "text": [
      "+-----------+----------+---------------+------------+\n",
      "| Serial No | TimeSlot | Time_of_order |    ETA     |\n",
      "+-----------+----------+---------------+------------+\n",
      "|     18    |    9     |   1577858482  | 1577858487 |\n",
      "+-----------+----------+---------------+------------+\n",
      "VM Exception while processing transaction: revert Time Slot order Maxed\n"
     ]
    }
   ],
   "source": [
    "# Making extra order\n",
    "table = PrettyTable(['Serial No','TimeSlot', 'Time_of_order', 'ETA'])\n",
    "table.add_row([k+1,i[0],i[1][0],i[1][1]])\n",
    "print(table)\n",
    "try:\n",
    "    contract_instance.functions.orderConsignment(i[0],i[1][0],i[1][1]).transact({'from':receiver_address})\n",
    "except ValueError as e:\n",
    "    print(ast.literal_eval(str(e))['message'])"
   ]
  },
  {
   "cell_type": "code",
   "execution_count": 17,
   "metadata": {
    "slideshow": {
     "slide_type": "slide"
    }
   },
   "outputs": [
    {
     "name": "stdout",
     "output_type": "stream",
     "text": [
      "flagContinue :True\n"
     ]
    }
   ],
   "source": [
    "#checking flag continue\n",
    "print(f'flagContinue :{contract_instance.functions.flagContinue().call()}')"
   ]
  },
  {
   "cell_type": "code",
   "execution_count": 18,
   "metadata": {
    "slideshow": {
     "slide_type": "slide"
    }
   },
   "outputs": [
    {
     "name": "stdout",
     "output_type": "stream",
     "text": [
      "+-----------+----------+---------------+------------+\n",
      "| Serial No | TimeSlot | Time_of_order |    ETA     |\n",
      "+-----------+----------+---------------+------------+\n",
      "|     19    |    10    |   1577858491  | 1577858496 |\n",
      "|     20    |    10    |   1577858492  | 1577858497 |\n",
      "+-----------+----------+---------------+------------+\n"
     ]
    }
   ],
   "source": [
    "table = PrettyTable(['Serial No','TimeSlot', 'Time_of_order', 'ETA'])\n",
    "\n",
    "for j,i in enumerate(list(zip(order_schedule_list,OrderEtalist))[-2:]):\n",
    "    table.add_row([k+j+2,i[0],i[1][0],i[1][1]])\n",
    "    contract_instance.functions.orderConsignment(i[0],i[1][0],i[1][1]).transact({'from':receiver_address})\n",
    "\n",
    "print(table)"
   ]
  },
  {
   "cell_type": "code",
   "execution_count": 19,
   "metadata": {
    "slideshow": {
     "slide_type": "slide"
    }
   },
   "outputs": [
    {
     "name": "stdout",
     "output_type": "stream",
     "text": [
      "+-----------+----------+---------------+-----+\n",
      "| Serial No | TimeSlot | Time_of_order | ETA |\n",
      "+-----------+----------+---------------+-----+\n",
      "|     21    |    11    |      102      | 107 |\n",
      "+-----------+----------+---------------+-----+\n",
      "VM Exception while processing transaction: revert Time Slot order Maxed\n"
     ]
    }
   ],
   "source": [
    "# Making extra order\n",
    "table = PrettyTable(['Serial No','TimeSlot', 'Time_of_order', 'ETA'])\n",
    "table.add_row([21,11,102,107])\n",
    "print(table)\n",
    "try:\n",
    "    contract_instance.functions.orderConsignment(i[0],i[1][0],i[1][1]).transact({'from':receiver_address})\n",
    "except ValueError as e:\n",
    "    print(ast.literal_eval(str(e))['message'])"
   ]
  },
  {
   "cell_type": "code",
   "execution_count": 20,
   "metadata": {
    "slideshow": {
     "slide_type": "slide"
    }
   },
   "outputs": [
    {
     "name": "stdout",
     "output_type": "stream",
     "text": [
      "Total Orders Executed: 20\n"
     ]
    }
   ],
   "source": [
    "#Checking Number of order executed. \n",
    "total_orders_executed = contract_instance.functions.OrderBookIncrementor().call()\n",
    "print(f\"Total Orders Executed: {total_orders_executed}\")"
   ]
  },
  {
   "cell_type": "code",
   "execution_count": 21,
   "metadata": {
    "slideshow": {
     "slide_type": "slide"
    }
   },
   "outputs": [
    {
     "name": "stdout",
     "output_type": "stream",
     "text": [
      "flagContinue :True\n"
     ]
    }
   ],
   "source": [
    "#checking flag continue\n",
    "print(f'flagContinue :{contract_instance.functions.flagContinue().call()}')"
   ]
  },
  {
   "cell_type": "code",
   "execution_count": 22,
   "metadata": {
    "slideshow": {
     "slide_type": "skip"
    }
   },
   "outputs": [],
   "source": [
    "# Retriving random order numbers (2 actual and 1 with error i.e. with order number 0)"
   ]
  },
  {
   "cell_type": "code",
   "execution_count": 23,
   "metadata": {
    "scrolled": true,
    "slideshow": {
     "slide_type": "slide"
    }
   },
   "outputs": [
    {
     "name": "stdout",
     "output_type": "stream",
     "text": [
      "    \n",
      "    \n",
      "Random_Order_Number:3\n",
      "consignmentnumber:3\n",
      "timeSlotOfOrder  :2\n",
      "timeOfOrder      :1577858411\n",
      "consignmentSender:0x5Cf0F2A68538278caDfe25ef746B928C3419dC7E\n",
      "ETA              :1577858416\n",
      "DeliveryReviewed :False\n",
      "        \n",
      "\n",
      "    \n",
      "    \n",
      "Random_Order_Number:8\n",
      "consignmentnumber:8\n",
      "timeSlotOfOrder  :4\n",
      "timeOfOrder      :1577858432\n",
      "consignmentSender:0x5Cf0F2A68538278caDfe25ef746B928C3419dC7E\n",
      "ETA              :1577858437\n",
      "DeliveryReviewed :False\n",
      "        \n",
      "\n",
      "    \n",
      "    \n",
      "Random_Order_Number:21\n",
      "consignmentnumber:0\n",
      "timeSlotOfOrder  :0\n",
      "timeOfOrder      :0\n",
      "consignmentSender:0x0000000000000000000000000000000000000000\n",
      "ETA              :0\n",
      "DeliveryReviewed :False\n",
      "        \n",
      "\n"
     ]
    }
   ],
   "source": [
    "random_orders = [i+1 for i in range(total_orders_executed)]\n",
    "_=random.sample(random_orders, 2)\n",
    "_.append(total_orders_executed+1)\n",
    "\n",
    "for i in _:\n",
    "    print(f'''    \n",
    "    \n",
    "Random_Order_Number:{i}\n",
    "consignmentnumber:{contract_instance.functions.orderBookConsignment(i).call()[0]}\n",
    "timeSlotOfOrder  :{contract_instance.functions.orderBookConsignment(i).call()[1]}\n",
    "timeOfOrder      :{contract_instance.functions.orderBookConsignment(i).call()[2]}\n",
    "consignmentSender:{contract_instance.functions.orderBookConsignment(i).call()[3]}\n",
    "ETA              :{contract_instance.functions.orderBookConsignment(i).call()[4]}\n",
    "DeliveryReviewed :{contract_instance.functions.orderBookConsignment(i).call()[5]}\n",
    "        ''')\n",
    "    print()\n",
    "    \n"
   ]
  },
  {
   "cell_type": "markdown",
   "metadata": {
    "slideshow": {
     "slide_type": "slide"
    }
   },
   "source": [
    "# Part 4: Receiving Orders"
   ]
  },
  {
   "cell_type": "code",
   "execution_count": 24,
   "metadata": {
    "slideshow": {
     "slide_type": "skip"
    }
   },
   "outputs": [],
   "source": [
    "accepting_orders = {\n",
    "        0: (True),\n",
    "        1: (True),\n",
    "        2: (True),\n",
    "        3: (True),\n",
    "        4: (True),\n",
    "        5: (True),\n",
    "        6: (True),\n",
    "        7: (True),\n",
    "        8: (True),\n",
    "        9: (False)   \n",
    "    }"
   ]
  },
  {
   "cell_type": "code",
   "execution_count": 25,
   "metadata": {
    "slideshow": {
     "slide_type": "skip"
    }
   },
   "outputs": [
    {
     "name": "stdout",
     "output_type": "stream",
     "text": [
      "[True, True, True, True, True, True, True, True, True, True, True, True, True, True, True, True, True, True, True, True]\n"
     ]
    }
   ],
   "source": [
    "#making random acceptance\n",
    "acceptance_list = []\n",
    "for i in range(total_orders_executed):\n",
    "    acceptance_list.append(accepting_orders[random.randrange(0,10)])\n",
    "    \n",
    "print(acceptance_list)"
   ]
  },
  {
   "cell_type": "code",
   "execution_count": 26,
   "metadata": {
    "slideshow": {
     "slide_type": "skip"
    }
   },
   "outputs": [
    {
     "name": "stderr",
     "output_type": "stream",
     "text": [
      "IOPub data rate exceeded.\n",
      "The notebook server will temporarily stop sending output\n",
      "to the client in order to avoid crashing it.\n",
      "To change this limit, set the config variable\n",
      "`--NotebookApp.iopub_data_rate_limit`.\n",
      "\n",
      "Current values:\n",
      "NotebookApp.iopub_data_rate_limit=1000000.0 (bytes/sec)\n",
      "NotebookApp.rate_limit_window=3.0 (secs)\n",
      "\n"
     ]
    }
   ],
   "source": [
    "#Receiving 20\n",
    "#lets assume everything is in range ±ETA \n",
    "eta_list = []\n",
    "time_to_receive_consignments = [(i,i+1) for i in range(time_start + 5,time_end,10)]\n",
    "# print(time_to_receive_consignments)\n",
    "for i in time_to_receive_consignments:\n",
    "    for j in range(len(i)):\n",
    "#         print(i[j])\n",
    "        eta_list.append(i[j])\n",
    "    \n",
    "print(eta_list)"
   ]
  },
  {
   "cell_type": "code",
   "execution_count": 27,
   "metadata": {
    "slideshow": {
     "slide_type": "slide"
    }
   },
   "outputs": [
    {
     "name": "stdout",
     "output_type": "stream",
     "text": [
      "+-------------+-----------+-------------+--------------+\n",
      "| OrderNumber | Accepting | Buyer's ETA | Seller's ETA |\n",
      "+-------------+-----------+-------------+--------------+\n",
      "|      1      |    True   |  1577858405 |  1577858405  |\n",
      "|      2      |    True   |  1577858406 |  1577858406  |\n",
      "|      3      |    True   |  1577858415 |  1577858415  |\n",
      "|      4      |    True   |  1577858416 |  1577858416  |\n",
      "|      5      |    True   |  1577858425 |  1577858425  |\n",
      "|      6      |    True   |  1577858426 |  1577858426  |\n",
      "|      7      |    True   |  1577858435 |  1577858435  |\n",
      "|      8      |    True   |  1577858436 |  1577858436  |\n",
      "|      9      |    True   |  1577858445 |  1577858445  |\n",
      "|      10     |    True   |  1577858446 |  1577858446  |\n",
      "|      11     |    True   |  1577858455 |  1577858455  |\n",
      "|      12     |    True   |  1577858456 |  1577858456  |\n",
      "|      13     |    True   |  1577858465 |  1577858465  |\n",
      "|      14     |    True   |  1577858466 |  1577858466  |\n",
      "|      15     |    True   |  1577858475 |  1577858475  |\n",
      "|      16     |    True   |  1577858476 |  1577858476  |\n",
      "|      17     |    True   |  1577858485 |  1577858485  |\n",
      "|      18     |    True   |  1577858486 |  1577858486  |\n",
      "+-------------+-----------+-------------+--------------+\n"
     ]
    }
   ],
   "source": [
    "# now executing the order\n",
    "table = PrettyTable(['OrderNumber','Accepting', \"Buyer's ETA\",\"Seller's ETA\"])\n",
    "\n",
    "for i,j in enumerate(list(zip(acceptance_list,eta_list))[:-2]):\n",
    "    if(j[0]==False):\n",
    "#         print(i+1,j[0],0)\n",
    "        table.add_row([i+1,j[0],0,j[1]])\n",
    "        contract_instance.functions.senderETA(i+1,j[1]).transact({'from':sender_address})\n",
    "        contract_instance.functions.receiverConsignement(i+1,j[0],0).transact({'from':receiver_address})\n",
    "    else:\n",
    "#         print(i+1,j[0],j[1])\n",
    "        table.add_row([i+1,j[0],j[1],j[1]])\n",
    "        contract_instance.functions.senderETA(i+1,j[1]).transact({'from':sender_address})\n",
    "        contract_instance.functions.receiverConsignement(i+1,j[0],j[1]).transact({'from':receiver_address})\n",
    "    \n",
    "print(table)     "
   ]
  },
  {
   "cell_type": "code",
   "execution_count": null,
   "metadata": {},
   "outputs": [],
   "source": []
  },
  {
   "cell_type": "code",
   "execution_count": 28,
   "metadata": {
    "slideshow": {
     "slide_type": "slide"
    }
   },
   "outputs": [
    {
     "name": "stdout",
     "output_type": "stream",
     "text": [
      "ContractEndAgreement :False\n"
     ]
    }
   ],
   "source": [
    "# Minor check to show that when the flagContinue is true, you cannot call the checkpeformace function.\n",
    "print(f'ContractEndAgreement :{contract_instance.functions.ContractEndAgreement().call()}')"
   ]
  },
  {
   "cell_type": "code",
   "execution_count": 29,
   "metadata": {
    "slideshow": {
     "slide_type": "slide"
    }
   },
   "outputs": [
    {
     "name": "stdout",
     "output_type": "stream",
     "text": [
      "+-------------+-----------+-------------+--------------+\n",
      "| OrderNumber | Accepting | Buyer's ETA | Seller's ETA |\n",
      "+-------------+-----------+-------------+--------------+\n",
      "|      19     |    True   |     105     |     105      |\n",
      "|      20     |    True   |     106     |     106      |\n",
      "+-------------+-----------+-------------+--------------+\n"
     ]
    },
    {
     "data": {
      "text/plain": [
       "HexBytes('0xaf8dc32d9b2731878a0679401fe54788092dc17e243549703e5391f7519e581d')"
      ]
     },
     "execution_count": 29,
     "metadata": {},
     "output_type": "execute_result"
    }
   ],
   "source": [
    "table = PrettyTable(['OrderNumber','Accepting', \"Buyer's ETA\",\"Seller's ETA\"])\n",
    "table.add_row([19,True,105,105])\n",
    "table.add_row([20,True,106,106])\n",
    "print(table)\n",
    "contract_instance.functions.senderETA(19,105).transact({'from':sender_address})\n",
    "contract_instance.functions.receiverConsignement(19,True,105).transact({'from':receiver_address})\n",
    "contract_instance.functions.senderETA(20,106).transact({'from':sender_address})\n",
    "contract_instance.functions.receiverConsignement(20,False,0).transact({'from':receiver_address})\n"
   ]
  },
  {
   "cell_type": "code",
   "execution_count": 30,
   "metadata": {
    "scrolled": true,
    "slideshow": {
     "slide_type": "slide"
    }
   },
   "outputs": [
    {
     "name": "stdout",
     "output_type": "stream",
     "text": [
      "ContractEndAgreement :False\n"
     ]
    }
   ],
   "source": [
    "# Minor check to show that when the flagContinue is true, you cannot call the checkpeformace function.\n",
    "print(f'ContractEndAgreement :{contract_instance.functions.ContractEndAgreement().call()}')"
   ]
  },
  {
   "cell_type": "code",
   "execution_count": 31,
   "metadata": {
    "slideshow": {
     "slide_type": "slide"
    }
   },
   "outputs": [
    {
     "name": "stdout",
     "output_type": "stream",
     "text": [
      "VM Exception while processing transaction: revert Decision is Made!\n"
     ]
    }
   ],
   "source": [
    "#Now if we receive order, We should get error:\n",
    "import ast\n",
    "try:\n",
    "    contract_instance.functions.receiverConsignement(20,True,106).transact({'from':receiver_address})\n",
    "except ValueError as e:\n",
    "    print(ast.literal_eval(str(e))['message'])"
   ]
  },
  {
   "cell_type": "code",
   "execution_count": 32,
   "metadata": {
    "slideshow": {
     "slide_type": "slide"
    }
   },
   "outputs": [
    {
     "name": "stdout",
     "output_type": "stream",
     "text": [
      "Note: if the delivery was not accepted, the flagDecision will be final (True) i.e. not changes can be made \n",
      "Delivery Status Notation: 0-None,1-Success,2-Failed,3-Disputed\n",
      "   \n",
      "    \n",
      "Random_Order_Number:6\n",
      "\n",
      "consignmentnumber       : 6\n",
      "consignmentOrderTime    : 0\n",
      "consignmnetShippingTime : 0\n",
      "ETAasPerOrder           : 1577858427\n",
      "RobETA                  : 1577858426\n",
      "SallyETA                : 1577858426\n",
      "consignmentSender       : 0x0000000000000000000000000000000000000000\n",
      "DeliveryStatusOnDelivery: 0\n",
      "flagDecision            : False\n",
      "\n",
      "   \n",
      "    \n",
      "Random_Order_Number:9\n",
      "\n",
      "consignmentnumber       : 9\n",
      "consignmentOrderTime    : 0\n",
      "consignmnetShippingTime : 0\n",
      "ETAasPerOrder           : 1577858446\n",
      "RobETA                  : 1577858445\n",
      "SallyETA                : 1577858445\n",
      "consignmentSender       : 0x0000000000000000000000000000000000000000\n",
      "DeliveryStatusOnDelivery: 0\n",
      "flagDecision            : False\n",
      "\n"
     ]
    }
   ],
   "source": [
    "random_orders = [i+1 for i in range(total_orders_executed)]\n",
    "_=random.sample(random_orders, 2)\n",
    "\n",
    "print(\"Note: if the delivery was not accepted, the flagDecision will be final (True) i.e. not changes can be made \")\n",
    "print(\"Delivery Status Notation: 0-None,1-Success,2-Failed,3-Disputed\")\n",
    "\n",
    "for i in _:\n",
    "    print(f'''   \n",
    "    \n",
    "Random_Order_Number:{i}\n",
    "\n",
    "consignmentnumber       : {contract_instance.functions.receivingConsignmentBook(i).call()[0]}\n",
    "consignmentOrderTime    : {contract_instance.functions.receivingConsignmentBook(i).call()[1]}\n",
    "consignmnetShippingTime : {contract_instance.functions.receivingConsignmentBook(i).call()[2]}\n",
    "ETAasPerOrder           : {contract_instance.functions.receivingConsignmentBook(i).call()[3]}\n",
    "RobETA                  : {contract_instance.functions.receivingConsignmentBook(i).call()[4]}\n",
    "SallyETA                : {contract_instance.functions.receivingConsignmentBook(i).call()[5]}\n",
    "consignmentSender       : {contract_instance.functions.receivingConsignmentBook(i).call()[6]}\n",
    "DeliveryStatusOnDelivery: {contract_instance.functions.receivingConsignmentBook(i).call()[7]}\n",
    "flagDecision            : {contract_instance.functions.receivingConsignmentBook(i).call()[8]}\n",
    "''')\n",
    "\n",
    "    "
   ]
  },
  {
   "cell_type": "code",
   "execution_count": 33,
   "metadata": {
    "slideshow": {
     "slide_type": "slide"
    }
   },
   "outputs": [
    {
     "name": "stdout",
     "output_type": "stream",
     "text": [
      "VM Exception while processing transaction: revert Decision is Made!\n"
     ]
    }
   ],
   "source": [
    "# Finalizing the Deal (verifying with ETA)\n",
    "total_orders_received = contract_instance.functions.N().call() #both accepted and rejected\n",
    "\n",
    "for i in range(len(acceptance_list)):\n",
    "    try:\n",
    "        contract_instance.functions.settingFlagDecision(i+1).transact({'from':receiver_address})\n",
    "    except ValueError as e:\n",
    "        print(ast.literal_eval(str(e))['message'])\n",
    "    \n",
    "    \n",
    "       \n",
    "    \n",
    "    \n"
   ]
  },
  {
   "cell_type": "code",
   "execution_count": 34,
   "metadata": {
    "slideshow": {
     "slide_type": "skip"
    }
   },
   "outputs": [
    {
     "name": "stdout",
     "output_type": "stream",
     "text": [
      "17\n"
     ]
    }
   ],
   "source": [
    "print(k)"
   ]
  },
  {
   "cell_type": "code",
   "execution_count": 35,
   "metadata": {
    "slideshow": {
     "slide_type": "slide"
    }
   },
   "outputs": [
    {
     "name": "stdout",
     "output_type": "stream",
     "text": [
      "Note: if the delivery was not accepted, the flagDecision will be final (True) i.e. not changes can be made \n",
      "Delivery Status Notation: 0-None,1-Success,2-Failed,3-Disputed\n",
      "   \n",
      "    \n",
      "Random_Order_Number:17\n",
      "\n",
      "consignmentnumber       : 17\n",
      "consignmentOrderTime    : 0\n",
      "consignmnetShippingTime : 0\n",
      "ETAasPerOrder           : 1577858486\n",
      "RobETA                  : 1577858485\n",
      "SallyETA                : 1577858485\n",
      "consignmentSender       : 0x0000000000000000000000000000000000000000\n",
      "DeliveryStatusOnDelivery: 1\n",
      "flagDecision            : True\n",
      "\n",
      "   \n",
      "    \n",
      "Random_Order_Number:3\n",
      "\n",
      "consignmentnumber       : 3\n",
      "consignmentOrderTime    : 0\n",
      "consignmnetShippingTime : 0\n",
      "ETAasPerOrder           : 1577858416\n",
      "RobETA                  : 1577858415\n",
      "SallyETA                : 1577858415\n",
      "consignmentSender       : 0x0000000000000000000000000000000000000000\n",
      "DeliveryStatusOnDelivery: 1\n",
      "flagDecision            : True\n",
      "\n"
     ]
    }
   ],
   "source": [
    "random_orders = [i+1 for i in range(total_orders_executed)]\n",
    "_=random.sample(random_orders, 2)\n",
    "\n",
    "print(\"Note: if the delivery was not accepted, the flagDecision will be final (True) i.e. not changes can be made \")\n",
    "print(\"Delivery Status Notation: 0-None,1-Success,2-Failed,3-Disputed\")\n",
    "\n",
    "for i in _:\n",
    "    print(f'''   \n",
    "    \n",
    "Random_Order_Number:{i}\n",
    "\n",
    "consignmentnumber       : {contract_instance.functions.receivingConsignmentBook(i).call()[0]}\n",
    "consignmentOrderTime    : {contract_instance.functions.receivingConsignmentBook(i).call()[1]}\n",
    "consignmnetShippingTime : {contract_instance.functions.receivingConsignmentBook(i).call()[2]}\n",
    "ETAasPerOrder           : {contract_instance.functions.receivingConsignmentBook(i).call()[3]}\n",
    "RobETA                  : {contract_instance.functions.receivingConsignmentBook(i).call()[4]}\n",
    "SallyETA                : {contract_instance.functions.receivingConsignmentBook(i).call()[5]}\n",
    "consignmentSender       : {contract_instance.functions.receivingConsignmentBook(i).call()[6]}\n",
    "DeliveryStatusOnDelivery: {contract_instance.functions.receivingConsignmentBook(i).call()[7]}\n",
    "flagDecision            : {contract_instance.functions.receivingConsignmentBook(i).call()[8]}\n",
    "''')\n"
   ]
  },
  {
   "cell_type": "code",
   "execution_count": 36,
   "metadata": {
    "slideshow": {
     "slide_type": "slide"
    }
   },
   "outputs": [
    {
     "name": "stdout",
     "output_type": "stream",
     "text": [
      "ORDERBOOK:\n",
      "    \n",
      "\n",
      "Random_Order_Number:2\n",
      "consignmentnumber:2\n",
      "timeSlotOfOrder  :1\n",
      "timeOfOrder      :1577858402\n",
      "consignmentSender:0x5Cf0F2A68538278caDfe25ef746B928C3419dC7E\n",
      "ETA              :1577858407\n",
      "DeliveryReviewed :True\n",
      "        \n",
      "\n",
      "    \n",
      "\n",
      "Random_Order_Number:10\n",
      "consignmentnumber:10\n",
      "timeSlotOfOrder  :5\n",
      "timeOfOrder      :1577858442\n",
      "consignmentSender:0x5Cf0F2A68538278caDfe25ef746B928C3419dC7E\n",
      "ETA              :1577858447\n",
      "DeliveryReviewed :True\n",
      "        \n",
      "\n"
     ]
    }
   ],
   "source": [
    "random_orders = [i+1 for i in range(total_orders_executed)]\n",
    "_=random.sample(random_orders, 2)\n",
    "\n",
    "print(\"ORDERBOOK:\")\n",
    "for i in _:\n",
    "    print(f'''    \n",
    "\n",
    "Random_Order_Number:{i}\n",
    "consignmentnumber:{contract_instance.functions.orderBookConsignment(i).call()[0]}\n",
    "timeSlotOfOrder  :{contract_instance.functions.orderBookConsignment(i).call()[1]}\n",
    "timeOfOrder      :{contract_instance.functions.orderBookConsignment(i).call()[2]}\n",
    "consignmentSender:{contract_instance.functions.orderBookConsignment(i).call()[3]}\n",
    "ETA              :{contract_instance.functions.orderBookConsignment(i).call()[4]}\n",
    "DeliveryReviewed :{contract_instance.functions.orderBookConsignment(i).call()[5]}\n",
    "        ''')\n",
    "    print()\n",
    "    "
   ]
  },
  {
   "cell_type": "markdown",
   "metadata": {
    "slideshow": {
     "slide_type": "slide"
    }
   },
   "source": [
    "#### Reteriving Information from the blockchain"
   ]
  },
  {
   "cell_type": "code",
   "execution_count": 94,
   "metadata": {
    "slideshow": {
     "slide_type": "slide"
    }
   },
   "outputs": [
    {
     "name": "stdout",
     "output_type": "stream",
     "text": [
      "\n",
      "N                    : 20\n",
      "s                    : 3\n",
      "f                    : 1\n",
      "d                    : 16\n",
      "flagContinue         : False\n",
      "\n"
     ]
    }
   ],
   "source": [
    "print(f'''\n",
    "N                    : {contract_instance.functions.N().call()}\n",
    "s                    : {contract_instance.functions.s().call()}\n",
    "f                    : {contract_instance.functions.f().call()}\n",
    "d                    : {contract_instance.functions.d().call()}\n",
    "flagContinue         : {contract_instance.functions.flagContinue().call()}\n",
    "''')"
   ]
  },
  {
   "cell_type": "code",
   "execution_count": 38,
   "metadata": {
    "slideshow": {
     "slide_type": "slide"
    }
   },
   "outputs": [
    {
     "name": "stdout",
     "output_type": "stream",
     "text": [
      "True\n"
     ]
    }
   ],
   "source": [
    "#verification\n",
    "assert(contract_instance.functions.N().call() == contract_instance.functions.s().call() + contract_instance.functions.f().call() + contract_instance.functions.d().call())\n",
    "print(True)"
   ]
  },
  {
   "cell_type": "code",
   "execution_count": null,
   "metadata": {
    "slideshow": {
     "slide_type": "skip"
    }
   },
   "outputs": [],
   "source": []
  },
  {
   "cell_type": "code",
   "execution_count": 39,
   "metadata": {
    "slideshow": {
     "slide_type": "slide"
    }
   },
   "outputs": [
    {
     "name": "stdout",
     "output_type": "stream",
     "text": [
      "\n",
      "Random_Order_Number:3\n",
      "consignmentnumber:3\n",
      "timeSlotOfOrder  :2\n",
      "timeOfOrder      :1577858411\n",
      "consignmentSender:0x5Cf0F2A68538278caDfe25ef746B928C3419dC7E\n",
      "ETA              :1577858416\n",
      "DeliveryReviewed :True\n",
      "        \n",
      "\n",
      "\n",
      "Random_Order_Number:4\n",
      "consignmentnumber:4\n",
      "timeSlotOfOrder  :2\n",
      "timeOfOrder      :1577858412\n",
      "consignmentSender:0x5Cf0F2A68538278caDfe25ef746B928C3419dC7E\n",
      "ETA              :1577858417\n",
      "DeliveryReviewed :True\n",
      "        \n",
      "\n",
      "\n",
      "Random_Order_Number:21\n",
      "consignmentnumber:0\n",
      "timeSlotOfOrder  :0\n",
      "timeOfOrder      :0\n",
      "consignmentSender:0x0000000000000000000000000000000000000000\n",
      "ETA              :0\n",
      "DeliveryReviewed :False\n",
      "        \n",
      "\n"
     ]
    }
   ],
   "source": [
    "random_orders = [i+1 for i in range(total_orders_executed)]\n",
    "_=random.sample(random_orders, 2)\n",
    "_.append(total_orders_executed+1)\n",
    "\n",
    "\n",
    "for i in _:\n",
    "    print(f'''\n",
    "Random_Order_Number:{i}\n",
    "consignmentnumber:{contract_instance.functions.orderBookConsignment(i).call()[0]}\n",
    "timeSlotOfOrder  :{contract_instance.functions.orderBookConsignment(i).call()[1]}\n",
    "timeOfOrder      :{contract_instance.functions.orderBookConsignment(i).call()[2]}\n",
    "consignmentSender:{contract_instance.functions.orderBookConsignment(i).call()[3]}\n",
    "ETA              :{contract_instance.functions.orderBookConsignment(i).call()[4]}\n",
    "DeliveryReviewed :{contract_instance.functions.orderBookConsignment(i).call()[5]}\n",
    "        ''')\n",
    "    print()\n",
    "    \n"
   ]
  },
  {
   "cell_type": "markdown",
   "metadata": {
    "slideshow": {
     "slide_type": "slide"
    }
   },
   "source": [
    "# Part 5: Scenario with a dispute"
   ]
  },
  {
   "cell_type": "markdown",
   "metadata": {
    "slideshow": {
     "slide_type": "slide"
    }
   },
   "source": [
    "<p>We \"Redeployed\" the contract with the same set of parameters and made orders. (With new GANACHE environment)</p>"
   ]
  },
  {
   "cell_type": "code",
   "execution_count": 99,
   "metadata": {
    "slideshow": {
     "slide_type": "skip"
    }
   },
   "outputs": [
    {
     "name": "stdout",
     "output_type": "stream",
     "text": [
      "isConnected to Ganache: True\n"
     ]
    }
   ],
   "source": [
    "\n",
    "# Connect to Ganache\n",
    "from web3 import Web3\n",
    "web3 = Web3(Web3.HTTPProvider('HTTP://127.0.0.1:7545'))\n",
    "print(\"isConnected to Ganache:\",web3.isConnected())\n"
   ]
  },
  {
   "cell_type": "code",
   "execution_count": 100,
   "metadata": {
    "slideshow": {
     "slide_type": "skip"
    }
   },
   "outputs": [
    {
     "name": "stdout",
     "output_type": "stream",
     "text": [
      "0x8374c4821DF0ECbcbe66ab38a67143d91D6FfE1E\n",
      "0x2B8cd25B6d848E5BB27390Fe4aE76cDaA9640831\n",
      "0xE4727a97f9B7499Eb863Ed8409b3A7b3A8DDE0d4\n",
      "0x57EF482E8BF8606e11588c792B95AD0434A228a1\n",
      "0x7b91E237D5DE0dAC107e551DA044a3529c46aC54\n",
      "0x8A59eCA2A663d2153aF23b7c6e5a0dDdDFa36BF5\n"
     ]
    }
   ],
   "source": [
    "#gettin lists of accounts available, Account[0] will be like an auditor account\n",
    "accounts_list = web3.eth.accounts\n",
    "for i in accounts_list:\n",
    "    print(i)"
   ]
  },
  {
   "cell_type": "code",
   "execution_count": 101,
   "metadata": {
    "slideshow": {
     "slide_type": "slide"
    }
   },
   "outputs": [
    {
     "name": "stdout",
     "output_type": "stream",
     "text": [
      "Buyer's Address: 0x8374c4821DF0ECbcbe66ab38a67143d91D6FfE1E\n"
     ]
    }
   ],
   "source": [
    "#Receiver's Address will be first from the list\n",
    "receiver_address = accounts_list[0]\n",
    "print(\"Buyer's Address:\",receiver_address)\n"
   ]
  },
  {
   "cell_type": "code",
   "execution_count": 102,
   "metadata": {
    "slideshow": {
     "slide_type": "slide"
    }
   },
   "outputs": [
    {
     "name": "stdout",
     "output_type": "stream",
     "text": [
      "Seller's Address: 0x2B8cd25B6d848E5BB27390Fe4aE76cDaA9640831\n"
     ]
    }
   ],
   "source": [
    "#Senders Address will be second from the list\n",
    "sender_address = accounts_list[1]\n",
    "print(\"Seller's Address:\",sender_address)"
   ]
  },
  {
   "cell_type": "code",
   "execution_count": null,
   "metadata": {
    "slideshow": {
     "slide_type": "skip"
    }
   },
   "outputs": [],
   "source": []
  },
  {
   "cell_type": "code",
   "execution_count": 103,
   "metadata": {
    "slideshow": {
     "slide_type": "skip"
    }
   },
   "outputs": [
    {
     "name": "stdout",
     "output_type": "stream",
     "text": [
      "[(11, 16), (12, 17), (21, 26), (22, 27), (31, 36), (32, 37), (41, 46), (42, 47), (51, 56), (52, 57), (61, 66), (62, 67), (71, 76), (72, 77), (81, 86), (82, 87), (91, 96), (92, 97), (101, 106), (102, 107)]\n"
     ]
    }
   ],
   "source": [
    "#executing 20 orders\n",
    "orderTime_Temp = []\n",
    "for i in orderTime:\n",
    "    for j in list(i):\n",
    "        orderTime_Temp.append(j)\n",
    "\n",
    "etaTime_Temp = []\n",
    "for y in etaTime:\n",
    "    for z in list(y):\n",
    "        etaTime_Temp.append(z)\n",
    "\n",
    "OrderEtalist= list(zip(orderTime_Temp,etaTime_Temp))\n",
    "print(OrderEtalist)"
   ]
  },
  {
   "cell_type": "code",
   "execution_count": null,
   "metadata": {
    "slideshow": {
     "slide_type": "skip"
    }
   },
   "outputs": [],
   "source": []
  },
  {
   "cell_type": "code",
   "execution_count": 104,
   "metadata": {
    "slideshow": {
     "slide_type": "skip"
    }
   },
   "outputs": [],
   "source": [
    "\n",
    "#Input abi\n",
    "abi = '[ { \"inputs\": [ { \"internalType\": \"address\", \"name\": \"_senderAddress\", \"type\": \"address\" }, { \"internalType\": \"uint256\", \"name\": \"_startTime\", \"type\": \"uint256\" }, { \"internalType\": \"uint256\", \"name\": \"_endTime\", \"type\": \"uint256\" } ], \"stateMutability\": \"nonpayable\", \"type\": \"constructor\" }, { \"inputs\": [], \"name\": \"ContractEndAgreement\", \"outputs\": [ { \"internalType\": \"bool\", \"name\": \"\", \"type\": \"bool\" } ], \"stateMutability\": \"view\", \"type\": \"function\" }, { \"inputs\": [], \"name\": \"N\", \"outputs\": [ { \"internalType\": \"uint256\", \"name\": \"\", \"type\": \"uint256\" } ], \"stateMutability\": \"view\", \"type\": \"function\" }, { \"inputs\": [], \"name\": \"N_max\", \"outputs\": [ { \"internalType\": \"uint256\", \"name\": \"\", \"type\": \"uint256\" } ], \"stateMutability\": \"view\", \"type\": \"function\" }, { \"inputs\": [], \"name\": \"N_min\", \"outputs\": [ { \"internalType\": \"uint256\", \"name\": \"\", \"type\": \"uint256\" } ], \"stateMutability\": \"view\", \"type\": \"function\" }, { \"inputs\": [], \"name\": \"OrderBookIncrementor\", \"outputs\": [ { \"internalType\": \"uint256\", \"name\": \"\", \"type\": \"uint256\" } ], \"stateMutability\": \"view\", \"type\": \"function\" }, { \"inputs\": [ { \"internalType\": \"uint256\", \"name\": \"_consignmentOrderNumber\", \"type\": \"uint256\" } ], \"name\": \"RobSignature\", \"outputs\": [], \"stateMutability\": \"nonpayable\", \"type\": \"function\" }, { \"inputs\": [], \"name\": \"T_Deployment\", \"outputs\": [ { \"internalType\": \"uint256\", \"name\": \"\", \"type\": \"uint256\" } ], \"stateMutability\": \"view\", \"type\": \"function\" }, { \"inputs\": [], \"name\": \"T_agreement\", \"outputs\": [ { \"internalType\": \"uint256\", \"name\": \"\", \"type\": \"uint256\" } ], \"stateMutability\": \"view\", \"type\": \"function\" }, { \"inputs\": [], \"name\": \"T_end\", \"outputs\": [ { \"internalType\": \"uint256\", \"name\": \"\", \"type\": \"uint256\" } ], \"stateMutability\": \"view\", \"type\": \"function\" }, { \"inputs\": [], \"name\": \"T_start\", \"outputs\": [ { \"internalType\": \"uint256\", \"name\": \"\", \"type\": \"uint256\" } ], \"stateMutability\": \"view\", \"type\": \"function\" }, { \"inputs\": [], \"name\": \"asserOrders\", \"outputs\": [ { \"internalType\": \"bool\", \"name\": \"\", \"type\": \"bool\" } ], \"stateMutability\": \"view\", \"type\": \"function\" }, { \"inputs\": [ { \"internalType\": \"uint256\", \"name\": \"_enterPercent\", \"type\": \"uint256\" } ], \"name\": \"checkPerformance\", \"outputs\": [ { \"internalType\": \"string\", \"name\": \"\", \"type\": \"string\" } ], \"stateMutability\": \"view\", \"type\": \"function\" }, { \"inputs\": [], \"name\": \"consignmentETARange\", \"outputs\": [ { \"internalType\": \"uint256\", \"name\": \"\", \"type\": \"uint256\" } ], \"stateMutability\": \"view\", \"type\": \"function\" }, { \"inputs\": [], \"name\": \"d\", \"outputs\": [ { \"internalType\": \"uint256\", \"name\": \"\", \"type\": \"uint256\" } ], \"stateMutability\": \"view\", \"type\": \"function\" }, { \"inputs\": [], \"name\": \"f\", \"outputs\": [ { \"internalType\": \"uint256\", \"name\": \"\", \"type\": \"uint256\" } ], \"stateMutability\": \"view\", \"type\": \"function\" }, { \"inputs\": [], \"name\": \"flagContinue\", \"outputs\": [ { \"internalType\": \"bool\", \"name\": \"\", \"type\": \"bool\" } ], \"stateMutability\": \"view\", \"type\": \"function\" }, { \"inputs\": [ { \"internalType\": \"uint256\", \"name\": \"\", \"type\": \"uint256\" } ], \"name\": \"multiSigBook\", \"outputs\": [ { \"internalType\": \"uint256\", \"name\": \"courierNumber\", \"type\": \"uint256\" }, { \"internalType\": \"bool\", \"name\": \"signatureSally\", \"type\": \"bool\" }, { \"internalType\": \"bool\", \"name\": \"signatureRob\", \"type\": \"bool\" } ], \"stateMutability\": \"view\", \"type\": \"function\" }, { \"inputs\": [ { \"internalType\": \"uint256\", \"name\": \"\", \"type\": \"uint256\" } ], \"name\": \"orderBookConsignment\", \"outputs\": [ { \"internalType\": \"uint256\", \"name\": \"consignmentnumber\", \"type\": \"uint256\" }, { \"internalType\": \"uint256\", \"name\": \"timeSlotOfOrder\", \"type\": \"uint256\" }, { \"internalType\": \"uint256\", \"name\": \"timeOfOrder\", \"type\": \"uint256\" }, { \"internalType\": \"address\", \"name\": \"consignmentSender\", \"type\": \"address\" }, { \"internalType\": \"uint256\", \"name\": \"ETA\", \"type\": \"uint256\" }, { \"internalType\": \"bool\", \"name\": \"DeliveryReviewed\", \"type\": \"bool\" } ], \"stateMutability\": \"view\", \"type\": \"function\" }, { \"inputs\": [ { \"internalType\": \"uint256\", \"name\": \"_timeSlotOrder\", \"type\": \"uint256\" }, { \"internalType\": \"uint256\", \"name\": \"_timeOfOrder\", \"type\": \"uint256\" }, { \"internalType\": \"uint256\", \"name\": \"_OrderETA\", \"type\": \"uint256\" } ], \"name\": \"orderConsignment\", \"outputs\": [], \"stateMutability\": \"nonpayable\", \"type\": \"function\" }, { \"inputs\": [], \"name\": \"orderPerSlot\", \"outputs\": [ { \"internalType\": \"uint256\", \"name\": \"\", \"type\": \"uint256\" } ], \"stateMutability\": \"view\", \"type\": \"function\" }, { \"inputs\": [], \"name\": \"ownerCompanyName\", \"outputs\": [ { \"internalType\": \"string\", \"name\": \"\", \"type\": \"string\" } ], \"stateMutability\": \"view\", \"type\": \"function\" }, { \"inputs\": [], \"name\": \"ownerReceiver\", \"outputs\": [ { \"internalType\": \"address\", \"name\": \"\", \"type\": \"address\" } ], \"stateMutability\": \"view\", \"type\": \"function\" }, { \"inputs\": [ { \"internalType\": \"uint256\", \"name\": \"_cosignmentOrderNumber\", \"type\": \"uint256\" }, { \"internalType\": \"bool\", \"name\": \"_acceptinOrder\", \"type\": \"bool\" }, { \"internalType\": \"uint256\", \"name\": \"_eta\", \"type\": \"uint256\" } ], \"name\": \"receiverConsignement\", \"outputs\": [], \"stateMutability\": \"nonpayable\", \"type\": \"function\" }, { \"inputs\": [ { \"internalType\": \"uint256\", \"name\": \"\", \"type\": \"uint256\" } ], \"name\": \"receivingConsignmentBook\", \"outputs\": [ { \"internalType\": \"uint256\", \"name\": \"consignmentnumber\", \"type\": \"uint256\" }, { \"internalType\": \"uint256\", \"name\": \"consignmentOrderTime\", \"type\": \"uint256\" }, { \"internalType\": \"uint256\", \"name\": \"consignmnetShippingTime\", \"type\": \"uint256\" }, { \"internalType\": \"uint256\", \"name\": \"ETAasPerOrder\", \"type\": \"uint256\" }, { \"internalType\": \"uint256\", \"name\": \"RobETA\", \"type\": \"uint256\" }, { \"internalType\": \"uint256\", \"name\": \"SallyETA\", \"type\": \"uint256\" }, { \"internalType\": \"address\", \"name\": \"consignmentSender\", \"type\": \"address\" }, { \"internalType\": \"enum TradingAgreement.DeliveryStatus\", \"name\": \"DeliveryStatusOnDelivery\", \"type\": \"uint8\" }, { \"internalType\": \"bool\", \"name\": \"flagDecision\", \"type\": \"bool\" } ], \"stateMutability\": \"view\", \"type\": \"function\" }, { \"inputs\": [ { \"internalType\": \"uint256\", \"name\": \"_consignmentOrderNumber\", \"type\": \"uint256\" }, { \"internalType\": \"bool\", \"name\": \"_statusResolved\", \"type\": \"bool\" } ], \"name\": \"resolveDispute\", \"outputs\": [], \"stateMutability\": \"nonpayable\", \"type\": \"function\" }, { \"inputs\": [], \"name\": \"s\", \"outputs\": [ { \"internalType\": \"uint256\", \"name\": \"\", \"type\": \"uint256\" } ], \"stateMutability\": \"view\", \"type\": \"function\" }, { \"inputs\": [ { \"internalType\": \"uint256\", \"name\": \"_consignmentOrderNumber\", \"type\": \"uint256\" } ], \"name\": \"sallySignature\", \"outputs\": [], \"stateMutability\": \"nonpayable\", \"type\": \"function\" }, { \"inputs\": [], \"name\": \"senderAddress\", \"outputs\": [ { \"internalType\": \"address\", \"name\": \"\", \"type\": \"address\" } ], \"stateMutability\": \"view\", \"type\": \"function\" }, { \"inputs\": [], \"name\": \"senderAgreement\", \"outputs\": [ { \"internalType\": \"bool\", \"name\": \"\", \"type\": \"bool\" } ], \"stateMutability\": \"view\", \"type\": \"function\" }, { \"inputs\": [], \"name\": \"senderCompanyName\", \"outputs\": [ { \"internalType\": \"string\", \"name\": \"\", \"type\": \"string\" } ], \"stateMutability\": \"view\", \"type\": \"function\" }, { \"inputs\": [ { \"internalType\": \"uint256\", \"name\": \"_cosignmentOrderNumber\", \"type\": \"uint256\" }, { \"internalType\": \"uint256\", \"name\": \"_eta\", \"type\": \"uint256\" } ], \"name\": \"senderETA\", \"outputs\": [], \"stateMutability\": \"nonpayable\", \"type\": \"function\" }, { \"inputs\": [ { \"internalType\": \"uint256\", \"name\": \"_cosignmentOrderNumber\", \"type\": \"uint256\" } ], \"name\": \"settingFlagDecision\", \"outputs\": [], \"stateMutability\": \"nonpayable\", \"type\": \"function\" }, { \"inputs\": [], \"name\": \"timeProcessOrder\", \"outputs\": [ { \"internalType\": \"uint256\", \"name\": \"\", \"type\": \"uint256\" } ], \"stateMutability\": \"view\", \"type\": \"function\" }, { \"inputs\": [ { \"internalType\": \"uint256\", \"name\": \"\", \"type\": \"uint256\" }, { \"internalType\": \"uint256\", \"name\": \"\", \"type\": \"uint256\" } ], \"name\": \"timeSlotOrderPerSlot\", \"outputs\": [ { \"internalType\": \"bool\", \"name\": \"\", \"type\": \"bool\" } ], \"stateMutability\": \"view\", \"type\": \"function\" }, { \"inputs\": [], \"name\": \"time_slot\", \"outputs\": [ { \"internalType\": \"uint256\", \"name\": \"\", \"type\": \"uint256\" } ], \"stateMutability\": \"view\", \"type\": \"function\" }, { \"inputs\": [], \"name\": \"total_Slots\", \"outputs\": [ { \"internalType\": \"uint256\", \"name\": \"\", \"type\": \"uint256\" } ], \"stateMutability\": \"view\", \"type\": \"function\" } ]'\n",
    "\n",
    "#Input bytecode\n",
    "bytecode = '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'\n",
    "\n",
    "contract = web3.eth.contract(abi=abi, bytecode=bytecode)"
   ]
  },
  {
   "cell_type": "code",
   "execution_count": 105,
   "metadata": {
    "slideshow": {
     "slide_type": "skip"
    }
   },
   "outputs": [
    {
     "name": "stdout",
     "output_type": "stream",
     "text": [
      "\n",
      "time_start :10\n",
      "time_end   :110\n",
      "\n"
     ]
    }
   ],
   "source": [
    "#Predefined Parameters\n",
    "time_start = 10\n",
    "time_end = 110\n",
    "print(f'''\n",
    "time_start :{time_start}\n",
    "time_end   :{time_end}\n",
    "''')"
   ]
  },
  {
   "cell_type": "code",
   "execution_count": 106,
   "metadata": {
    "slideshow": {
     "slide_type": "skip"
    }
   },
   "outputs": [
    {
     "name": "stdout",
     "output_type": "stream",
     "text": [
      "Contract Deployment (transaction Hash): 0x183e6e7be36c8ad0f5f78c2403fd3dbaff78b544c98f2943cdc470fc302468bd\n"
     ]
    }
   ],
   "source": [
    "#Now, we will deploy it.\n",
    "tx_hash = contract.constructor(sender_address,time_start,time_end).transact({'from':receiver_address})\n",
    "print(f\"Contract Deployment (transaction Hash): {tx_hash.hex()}\")"
   ]
  },
  {
   "cell_type": "code",
   "execution_count": 107,
   "metadata": {
    "slideshow": {
     "slide_type": "skip"
    }
   },
   "outputs": [
    {
     "name": "stdout",
     "output_type": "stream",
     "text": [
      "contractAddress: 0x59A32b8B48020B5Cc3169e7a441a9594d3D52D79\n"
     ]
    }
   ],
   "source": [
    "#Now, we need to extract Address\n",
    "tx_receipt = web3.eth.getTransactionReceipt(tx_hash)\n",
    "address = tx_receipt['contractAddress']\n",
    "print('contractAddress:',address)"
   ]
  },
  {
   "cell_type": "code",
   "execution_count": 108,
   "metadata": {
    "slideshow": {
     "slide_type": "skip"
    }
   },
   "outputs": [],
   "source": [
    "contract_instance = web3.eth.contract(abi=abi, address=address)"
   ]
  },
  {
   "cell_type": "markdown",
   "metadata": {
    "slideshow": {
     "slide_type": "skip"
    }
   },
   "source": [
    "#### Some Basic Information about the company (call function(s))"
   ]
  },
  {
   "cell_type": "code",
   "execution_count": 109,
   "metadata": {
    "slideshow": {
     "slide_type": "skip"
    }
   },
   "outputs": [
    {
     "name": "stdout",
     "output_type": "stream",
     "text": [
      "\n",
      "OwnerCompany : 0x8374c4821DF0ECbcbe66ab38a67143d91D6FfE1E\n",
      "OwnerAddress : Rob's Company\n",
      "\n",
      "SenderCompany: Sally's Company\n",
      "SenderAddress: 0x2B8cd25B6d848E5BB27390Fe4aE76cDaA9640831\n",
      "\n"
     ]
    }
   ],
   "source": [
    "#Information about sender and receiver\n",
    "\n",
    "print(f'''\n",
    "OwnerCompany : {contract_instance.functions.ownerReceiver().call()}\n",
    "OwnerAddress : {contract_instance.functions.ownerCompanyName().call()}\n",
    "\n",
    "SenderCompany: {contract_instance.functions.senderCompanyName().call()}\n",
    "SenderAddress: {contract_instance.functions.senderAddress().call()}\n",
    "''')"
   ]
  },
  {
   "cell_type": "code",
   "execution_count": 110,
   "metadata": {
    "scrolled": true,
    "slideshow": {
     "slide_type": "skip"
    }
   },
   "outputs": [
    {
     "name": "stdout",
     "output_type": "stream",
     "text": [
      "\n",
      "\n",
      "T_Deployment    : 0\n",
      "T_start         : 10\n",
      "T_end           : 110\n",
      "\n",
      "time_slot       : 10\n",
      "\n",
      "orderPerSlot    : 2\n",
      "N_min           : 2 //orderPerSlot;\n",
      "N_max           : 20 //orderPerSlot * ((T_end-T_start)/time_slot);\n",
      "\n",
      "T_agreement     : 10\n",
      "\n",
      "timeProcessOrder: 2\n",
      "\n"
     ]
    }
   ],
   "source": [
    "#Other constructor Information\n",
    "\n",
    "print(f'''\n",
    "\n",
    "T_Deployment    : {contract_instance.functions.T_Deployment().call()}\n",
    "T_start         : {contract_instance.functions.T_start().call()}\n",
    "T_end           : {contract_instance.functions.T_end().call()}\n",
    "\n",
    "time_slot       : {contract_instance.functions.time_slot().call()}\n",
    "\n",
    "orderPerSlot    : {contract_instance.functions.orderPerSlot().call()}\n",
    "N_min           : {contract_instance.functions.N_min().call()} //orderPerSlot;\n",
    "N_max           : {contract_instance.functions.N_max().call()} //orderPerSlot * ((T_end-T_start)/time_slot);\n",
    "\n",
    "T_agreement     : {contract_instance.functions.T_agreement().call()}\n",
    "\n",
    "timeProcessOrder: {contract_instance.functions.timeProcessOrder().call()}\n",
    "''')"
   ]
  },
  {
   "cell_type": "markdown",
   "metadata": {
    "slideshow": {
     "slide_type": "slide"
    }
   },
   "source": [
    "# Part 5.1: Making orders"
   ]
  },
  {
   "cell_type": "code",
   "execution_count": 111,
   "metadata": {
    "slideshow": {
     "slide_type": "skip"
    }
   },
   "outputs": [
    {
     "name": "stdout",
     "output_type": "stream",
     "text": [
      "Slot wise OrderTime: [(11, 12), (21, 22), (31, 32), (41, 42), (51, 52), (61, 62), (71, 72), (81, 82), (91, 92), (101, 102)]\n"
     ]
    }
   ],
   "source": [
    "#Making 20 orders\n",
    "#let all have same OrderTime = 11,12 for now and and let fix ETA = 16,17 lets say.\n",
    "#with pair wise incrementation\n",
    "\n",
    "orderTime = [(i,i+1) for i in range(time_start + 1,time_end,10)]\n",
    "print(\"Slot wise OrderTime:\",orderTime)"
   ]
  },
  {
   "cell_type": "code",
   "execution_count": 112,
   "metadata": {
    "slideshow": {
     "slide_type": "skip"
    }
   },
   "outputs": [
    {
     "name": "stdout",
     "output_type": "stream",
     "text": [
      "Slot wise ETA: [(16, 17), (26, 27), (36, 37), (46, 47), (56, 57), (66, 67), (76, 77), (86, 87), (96, 97), (106, 107)]\n"
     ]
    }
   ],
   "source": [
    "etaTime = [(j,j+1) for j in range(time_start + 6 ,time_end,10)]\n",
    "print(\"Slot wise ETA:\",etaTime)"
   ]
  },
  {
   "cell_type": "code",
   "execution_count": 113,
   "metadata": {
    "slideshow": {
     "slide_type": "skip"
    }
   },
   "outputs": [
    {
     "name": "stdout",
     "output_type": "stream",
     "text": [
      "order_per_slot: 2\n",
      "total_slots: 10\n",
      "\n"
     ]
    }
   ],
   "source": [
    "#Making Transaction (orders 2 * (time_end - timestart)/10) \n",
    "order_per_slot = contract_instance.functions.orderPerSlot().call()\n",
    "total_slots = contract_instance.functions.total_Slots().call()\n",
    "print('order_per_slot:',order_per_slot)\n",
    "print('total_slots:',total_slots)\n",
    "print()\n",
    "\n",
    "order_schedule_list = []\n",
    "for i in range(1,total_slots+1):\n",
    "    for j in range(order_per_slot):\n",
    "        order_schedule_list.append(i)\n"
   ]
  },
  {
   "cell_type": "code",
   "execution_count": 114,
   "metadata": {
    "slideshow": {
     "slide_type": "slide"
    }
   },
   "outputs": [
    {
     "name": "stdout",
     "output_type": "stream",
     "text": [
      "Parameters: Time slot | Time_of_order | ETA\n",
      "+-----------+----------+---------------+-----+\n",
      "| Serial No | TimeSlot | Time_of_order | ETA |\n",
      "+-----------+----------+---------------+-----+\n",
      "|     1     |    1     |       11      |  16 |\n",
      "|     2     |    1     |       12      |  17 |\n",
      "|     3     |    2     |       21      |  26 |\n",
      "|     4     |    2     |       22      |  27 |\n",
      "|     5     |    3     |       31      |  36 |\n",
      "|     6     |    3     |       32      |  37 |\n",
      "|     7     |    4     |       41      |  46 |\n",
      "|     8     |    4     |       42      |  47 |\n",
      "|     9     |    5     |       51      |  56 |\n",
      "|     10    |    5     |       52      |  57 |\n",
      "|     11    |    6     |       61      |  66 |\n",
      "|     12    |    6     |       62      |  67 |\n",
      "|     13    |    7     |       71      |  76 |\n",
      "|     14    |    7     |       72      |  77 |\n",
      "|     15    |    8     |       81      |  86 |\n",
      "|     16    |    8     |       82      |  87 |\n",
      "|     17    |    9     |       91      |  96 |\n",
      "|     18    |    9     |       92      |  97 |\n",
      "|     19    |    10    |      101      | 106 |\n",
      "|     20    |    10    |      102      | 107 |\n",
      "+-----------+----------+---------------+-----+\n"
     ]
    }
   ],
   "source": [
    "\n",
    "table = PrettyTable(['Serial No','TimeSlot', 'Time_of_order', 'ETA'])\n",
    "\n",
    "print('Parameters: Time slot | Time_of_order | ETA')\n",
    "\n",
    "for k,i in enumerate(list(zip(order_schedule_list,OrderEtalist))):\n",
    "    table.add_row([k+1,i[0],i[1][0],i[1][1]])\n",
    "    contract_instance.functions.orderConsignment(i[0],i[1][0],i[1][1]).transact({'from':receiver_address})\n",
    "print(table)"
   ]
  },
  {
   "cell_type": "code",
   "execution_count": 115,
   "metadata": {
    "slideshow": {
     "slide_type": "slide"
    }
   },
   "outputs": [
    {
     "name": "stdout",
     "output_type": "stream",
     "text": [
      "Total Orders Executed: 20\n",
      "flagContinue :False\n"
     ]
    }
   ],
   "source": [
    "#Checking Number of order executed. \n",
    "total_orders_executed = contract_instance.functions.OrderBookIncrementor().call()\n",
    "print(f\"Total Orders Executed: {total_orders_executed}\")\n",
    "#checking flag continue\n",
    "print(f'flagContinue :{contract_instance.functions.flagContinue().call()}')"
   ]
  },
  {
   "cell_type": "markdown",
   "metadata": {
    "slideshow": {
     "slide_type": "slide"
    }
   },
   "source": [
    "# Part 5.2: Receiving Orders\n",
    "<p>We will receive 19 orders at random and one order we will specify as a disputed order. </p>\n",
    "<p>We plan to have 19th order as a disputed</p>\n",
    "<p>Scenario:<br> ETA(as per order) 106\n",
    "Seller will claim the ETA at 106 but Buyer doesn't agree and sets ETA at 109 (which is out of range of margined ETA)\n",
    "<p>"
   ]
  },
  {
   "cell_type": "code",
   "execution_count": 116,
   "metadata": {
    "slideshow": {
     "slide_type": "slide"
    }
   },
   "outputs": [
    {
     "name": "stdout",
     "output_type": "stream",
     "text": [
      "+-------------+-----------+-------------+--------------+\n",
      "| OrderNumber | Accepting | Buyer's ETA | Seller's ETA |\n",
      "+-------------+-----------+-------------+--------------+\n",
      "|      1      |    True   |  1577858405 |  1577858405  |\n",
      "|      2      |    True   |  1577858406 |  1577858406  |\n",
      "|      3      |    True   |  1577858415 |  1577858415  |\n",
      "|      4      |    True   |  1577858416 |  1577858416  |\n",
      "|      5      |    True   |  1577858425 |  1577858425  |\n",
      "|      6      |    True   |  1577858426 |  1577858426  |\n",
      "|      7      |    True   |  1577858435 |  1577858435  |\n",
      "|      8      |    True   |  1577858436 |  1577858436  |\n",
      "|      9      |    True   |  1577858445 |  1577858445  |\n",
      "|      10     |    True   |  1577858446 |  1577858446  |\n",
      "|      11     |    True   |  1577858455 |  1577858455  |\n",
      "|      12     |    True   |  1577858456 |  1577858456  |\n",
      "|      13     |    True   |  1577858465 |  1577858465  |\n",
      "|      14     |    True   |  1577858466 |  1577858466  |\n",
      "|      15     |    True   |  1577858475 |  1577858475  |\n",
      "|      16     |    True   |  1577858476 |  1577858476  |\n",
      "|      17     |    True   |  1577858485 |  1577858485  |\n",
      "|      18     |    True   |  1577858486 |  1577858486  |\n",
      "|      19     |    True   |     109     |     106      |\n",
      "|      20     |   False   |      0      |     107      |\n",
      "+-------------+-----------+-------------+--------------+\n"
     ]
    }
   ],
   "source": [
    "# now executing the order\n",
    "table = PrettyTable(['OrderNumber','Accepting', \"Buyer's ETA\",\"Seller's ETA\"])\n",
    "\n",
    "for i,j in enumerate(list(zip(acceptance_list,eta_list))[:-2]):\n",
    "    if(j[0]==False):\n",
    "#         print(i+1,j[0],0)\n",
    "        table.add_row([i+1,j[0],0,j[1]])\n",
    "        contract_instance.functions.senderETA(i+1,j[1]).transact({'from':sender_address})\n",
    "        contract_instance.functions.receiverConsignement(i+1,j[0],0).transact({'from':receiver_address})\n",
    "    else:\n",
    "#         print(i+1,j[0],j[1])\n",
    "        table.add_row([i+1,j[0],j[1],j[1]])\n",
    "        contract_instance.functions.senderETA(i+1,j[1]).transact({'from':sender_address})\n",
    "        contract_instance.functions.receiverConsignement(i+1,j[0],j[1]).transact({'from':receiver_address})\n",
    "\n",
    "table.add_row([19,True,109,106])\n",
    "table.add_row([20,False,0,107])\n",
    "contract_instance.functions.senderETA(19,106).transact({'from':sender_address})\n",
    "contract_instance.functions.receiverConsignement(19,True,109).transact({'from':receiver_address})\n",
    "contract_instance.functions.senderETA(20,106).transact({'from':sender_address})\n",
    "contract_instance.functions.receiverConsignement(20,False,0).transact({'from':receiver_address})\n",
    "\n",
    "print(table)  "
   ]
  },
  {
   "cell_type": "code",
   "execution_count": 117,
   "metadata": {
    "slideshow": {
     "slide_type": "slide"
    }
   },
   "outputs": [
    {
     "name": "stdout",
     "output_type": "stream",
     "text": [
      "VM Exception while processing transaction: revert Decision is Made!\n"
     ]
    }
   ],
   "source": [
    "# Finalizing the Deal (of orderbook)\n",
    "total_orders_received = contract_instance.functions.N().call() #both accepted and rejected\n",
    "\n",
    "for i in range(len(acceptance_list)):\n",
    "    try:\n",
    "        contract_instance.functions.settingFlagDecision(i+1).transact({'from':receiver_address})\n",
    "    except ValueError as e:\n",
    "        print(ast.literal_eval(str(e))['message'])"
   ]
  },
  {
   "cell_type": "code",
   "execution_count": 118,
   "metadata": {
    "slideshow": {
     "slide_type": "slide"
    }
   },
   "outputs": [
    {
     "name": "stdout",
     "output_type": "stream",
     "text": [
      "\n",
      "N                    : 20\n",
      "s                    : 0\n",
      "f                    : 1\n",
      "d                    : 19\n",
      "flagContinue         : False\n",
      "\n"
     ]
    }
   ],
   "source": [
    "\n",
    "\n",
    "print(f'''\n",
    "N                    : {contract_instance.functions.N().call()}\n",
    "s                    : {contract_instance.functions.s().call()}\n",
    "f                    : {contract_instance.functions.f().call()}\n",
    "d                    : {contract_instance.functions.d().call()}\n",
    "flagContinue         : {contract_instance.functions.flagContinue().call()}\n",
    "''')"
   ]
  },
  {
   "cell_type": "markdown",
   "metadata": {
    "slideshow": {
     "slide_type": "slide"
    }
   },
   "source": [
    "# Part 5.3: Resolving the dispute"
   ]
  },
  {
   "cell_type": "markdown",
   "metadata": {
    "slideshow": {
     "slide_type": "slide"
    }
   },
   "source": [
    "<p>In order to resolve dispute between Sender and Buyer for ETA, there is an off-chain agreement between the two and they agree on some ETA, both entities'signature is added on the blockchain and the issue is resolved. <p>\n",
    "    \n",
    "<p>In order to resolve the dispute, both's Signature is necessary, else it will throw error.</p>"
   ]
  },
  {
   "cell_type": "code",
   "execution_count": 90,
   "metadata": {
    "slideshow": {
     "slide_type": "slide"
    }
   },
   "outputs": [
    {
     "name": "stdout",
     "output_type": "stream",
     "text": [
      "Transaction Hash: 0x64f09948be259285bbc891fc58ce8a72aa51e27cd4d2fe8b618b0f34ee4b7190\n",
      "Transaction Hash: 0x07aa071a5fb5d10e154ac04cbbecfe93c826cb28d6176d0e6c02ee6714156098\n"
     ]
    }
   ],
   "source": [
    "disputed_Consignment_number = 19\n",
    "\n",
    "# Taking Seller's Signature  \n",
    "_ = contract_instance.functions.sallySignature(disputed_Consignment_number).transact({'from':sender_address})\n",
    "print(\"Transaction Hash:\",_.hex())\n",
    "# Taking Buyer's Signature\n",
    "_ = contract_instance.functions.RobSignature(disputed_Consignment_number).transact({'from':receiver_address})\n",
    "print(\"Transaction Hash:\",_.hex())\n",
    "\n"
   ]
  },
  {
   "cell_type": "code",
   "execution_count": 91,
   "metadata": {
    "slideshow": {
     "slide_type": "slide"
    }
   },
   "outputs": [
    {
     "name": "stdout",
     "output_type": "stream",
     "text": [
      "Transaction Hash: 0x602c0d7357d7a39b95e1e9d2d5adbba41e09c367ab0c29e5a17397dc197965f9\n"
     ]
    }
   ],
   "source": [
    "# Resolving Dispute as \"True\"\n",
    "_ = contract_instance.functions.resolveDispute(disputed_Consignment_number,True).transact({'from':receiver_address})\n",
    "print(\"Transaction Hash:\",_.hex())"
   ]
  },
  {
   "cell_type": "code",
   "execution_count": 92,
   "metadata": {
    "slideshow": {
     "slide_type": "slide"
    }
   },
   "outputs": [
    {
     "name": "stdout",
     "output_type": "stream",
     "text": [
      "\n",
      "N                    : 20\n",
      "s                    : 3\n",
      "f                    : 1\n",
      "d                    : 16\n",
      "flagContinue         : False\n",
      "\n"
     ]
    }
   ],
   "source": [
    "print(f'''\n",
    "N                    : {contract_instance.functions.N().call()}\n",
    "s                    : {contract_instance.functions.s().call()}\n",
    "f                    : {contract_instance.functions.f().call()}\n",
    "d                    : {contract_instance.functions.d().call()}\n",
    "flagContinue         : {contract_instance.functions.flagContinue().call()}\n",
    "''')"
   ]
  },
  {
   "cell_type": "code",
   "execution_count": 93,
   "metadata": {
    "slideshow": {
     "slide_type": "slide"
    }
   },
   "outputs": [
    {
     "name": "stdout",
     "output_type": "stream",
     "text": [
      "True\n"
     ]
    }
   ],
   "source": [
    "#verification\n",
    "assert(contract_instance.functions.N().call() == contract_instance.functions.s().call() + contract_instance.functions.f().call() + contract_instance.functions.d().call())\n",
    "print(True)"
   ]
  },
  {
   "cell_type": "code",
   "execution_count": null,
   "metadata": {},
   "outputs": [],
   "source": []
  },
  {
   "cell_type": "code",
   "execution_count": null,
   "metadata": {},
   "outputs": [],
   "source": []
  }
 ],
 "metadata": {
  "celltoolbar": "Slideshow",
  "kernelspec": {
   "display_name": "Python 3",
   "language": "python",
   "name": "python3"
  },
  "language_info": {
   "codemirror_mode": {
    "name": "ipython",
    "version": 3
   },
   "file_extension": ".py",
   "mimetype": "text/x-python",
   "name": "python",
   "nbconvert_exporter": "python",
   "pygments_lexer": "ipython3",
   "version": "3.7.6"
  }
 },
 "nbformat": 4,
 "nbformat_minor": 4
}
