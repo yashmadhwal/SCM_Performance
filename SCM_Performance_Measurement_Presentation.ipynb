{
 "cells": [
  {
   "cell_type": "markdown",
   "metadata": {
    "slideshow": {
     "slide_type": "slide"
    }
   },
   "source": [
    "# Part 1:  Initialize Environment"
   ]
  },
  {
   "cell_type": "code",
   "execution_count": 1,
   "metadata": {
    "slideshow": {
     "slide_type": "slide"
    }
   },
   "outputs": [],
   "source": [
    "# Importing libraries\n",
    "from web3 import Web3\n",
    "import ast\n",
    "import random\n",
    "from prettytable import PrettyTable\n",
    "import json"
   ]
  },
  {
   "cell_type": "markdown",
   "metadata": {
    "slideshow": {
     "slide_type": "slide"
    }
   },
   "source": [
    "### Connecting to Ganache\n",
    "\n",
    "<p>Ganache is a personal blockchain for rapid Ethereum and Corda distributed application development.</p>\n",
    "\n",
    "![](GanacheScreenShot.png)"
   ]
  },
  {
   "cell_type": "code",
   "execution_count": 2,
   "metadata": {
    "slideshow": {
     "slide_type": "slide"
    }
   },
   "outputs": [
    {
     "name": "stdout",
     "output_type": "stream",
     "text": [
      "isConnected to Ganache: True\n"
     ]
    }
   ],
   "source": [
    "# Connect to Ganache\n",
    "from web3 import Web3\n",
    "web3 = Web3(Web3.HTTPProvider('HTTP://127.0.0.1:7545'))\n",
    "print(\"isConnected to Ganache:\",web3.isConnected())\n"
   ]
  },
  {
   "cell_type": "code",
   "execution_count": 3,
   "metadata": {
    "slideshow": {
     "slide_type": "slide"
    }
   },
   "outputs": [
    {
     "name": "stdout",
     "output_type": "stream",
     "text": [
      "0x4Bd223C450df75Ed59534CEb00f73b36ac11F3E9\n",
      "0x5A282A8025e6aAC79Ac6a8e01b462C3aC2849167\n",
      "0xF2FcAC0f153DeAf82A838f02ec48Ee52061CcEee\n",
      "0x31E4015E49121516dcFeB6F1693Ec7840163B7A4\n",
      "0xcE5719aCb8936767A8eca5b97FCBE69D8A139976\n",
      "0x761C18cA37daAEbc00e6E00E5822EBc576CE9FA3\n"
     ]
    }
   ],
   "source": [
    "#gettin lists of accounts available, Account[0] will be like an auditor account\n",
    "accounts_list = web3.eth.accounts\n",
    "for i in accounts_list:\n",
    "    print(i)"
   ]
  },
  {
   "cell_type": "code",
   "execution_count": 4,
   "metadata": {
    "slideshow": {
     "slide_type": "slide"
    }
   },
   "outputs": [
    {
     "name": "stdout",
     "output_type": "stream",
     "text": [
      "Buyer's Address: 0x4Bd223C450df75Ed59534CEb00f73b36ac11F3E9\n"
     ]
    }
   ],
   "source": [
    "#Receiver's Address will be first from the list\n",
    "receiver_address = accounts_list[0]\n",
    "print(\"Buyer's Address:\",receiver_address)\n"
   ]
  },
  {
   "cell_type": "code",
   "execution_count": 5,
   "metadata": {
    "slideshow": {
     "slide_type": "slide"
    }
   },
   "outputs": [
    {
     "name": "stdout",
     "output_type": "stream",
     "text": [
      "Seller's Address: 0x5A282A8025e6aAC79Ac6a8e01b462C3aC2849167\n"
     ]
    }
   ],
   "source": [
    "#Senders Address will be second from the list\n",
    "sender_address = accounts_list[1]\n",
    "print(\"Seller's Address:\",sender_address)"
   ]
  },
  {
   "cell_type": "markdown",
   "metadata": {
    "slideshow": {
     "slide_type": "slide"
    }
   },
   "source": [
    "# Part 2:  Initialize Blockchain Environment"
   ]
  },
  {
   "cell_type": "code",
   "execution_count": 6,
   "metadata": {
    "slideshow": {
     "slide_type": "slide"
    }
   },
   "outputs": [],
   "source": [
    "with open('build/contracts/TradingAgreement.json') as f:\n",
    "  migration = json.load(f)\n",
    "\n",
    "migration_contract = migration['networks']['5777']['address']\n",
    "migration_abi = migration['abi']\n",
    "\n",
    "# print(migration_contract)\n",
    "# print(migration_abi)"
   ]
  },
  {
   "cell_type": "code",
   "execution_count": 9,
   "metadata": {},
   "outputs": [],
   "source": [
    "#Deploy Instance with: \n",
    "#truffle migrate 0xdf261C6f71D739b70Ab9877541b3C821AD027Ac6  10 110"
   ]
  },
  {
   "cell_type": "code",
   "execution_count": 10,
   "metadata": {
    "slideshow": {
     "slide_type": "slide"
    }
   },
   "outputs": [],
   "source": [
    "contract_instance = web3.eth.contract(abi=migration_abi, address=migration_contract)"
   ]
  },
  {
   "cell_type": "markdown",
   "metadata": {
    "slideshow": {
     "slide_type": "slide"
    }
   },
   "source": [
    "#### Some Basic Information about the company (call function(s))"
   ]
  },
  {
   "cell_type": "code",
   "execution_count": 11,
   "metadata": {
    "slideshow": {
     "slide_type": "slide"
    }
   },
   "outputs": [
    {
     "name": "stdout",
     "output_type": "stream",
     "text": [
      "\n",
      "OwnerCompany : 0x4Bd223C450df75Ed59534CEb00f73b36ac11F3E9\n",
      "OwnerAddress : Rob's Company\n",
      "\n",
      "SenderCompany: Sally's Company\n",
      "SenderAddress: 0x5A282A8025e6aAC79Ac6a8e01b462C3aC2849167\n",
      "\n"
     ]
    }
   ],
   "source": [
    "#Information about sender and receiver\n",
    "\n",
    "print(f'''\n",
    "OwnerCompany : {contract_instance.functions.ownerReceiver().call()}\n",
    "OwnerAddress : {contract_instance.functions.ownerCompanyName().call()}\n",
    "\n",
    "SenderCompany: {contract_instance.functions.senderCompanyName().call()}\n",
    "SenderAddress: {contract_instance.functions.senderAddress().call()}\n",
    "''')"
   ]
  },
  {
   "cell_type": "code",
   "execution_count": 12,
   "metadata": {
    "slideshow": {
     "slide_type": "slide"
    }
   },
   "outputs": [
    {
     "name": "stdout",
     "output_type": "stream",
     "text": [
      "\n",
      "\n",
      "T_Deployment    : 0\n",
      "T_start         : 10\n",
      "T_end           : 110\n",
      "\n",
      "time_slot       : 10\n",
      "\n",
      "orderPerSlot    : 2\n",
      "N_min           : 2 //orderPerSlot;\n",
      "N_max           : 20 //orderPerSlot * ((T_end-T_start)/time_slot);\n",
      "\n",
      "T_agreement     : 10\n",
      "\n",
      "timeProcessOrder: 2\n",
      "\n"
     ]
    }
   ],
   "source": [
    "#Other constructor Information\n",
    "\n",
    "print(f'''\n",
    "\n",
    "T_Deployment    : {contract_instance.functions.T_Deployment().call()}\n",
    "T_start         : {contract_instance.functions.T_start().call()}\n",
    "T_end           : {contract_instance.functions.T_end().call()}\n",
    "\n",
    "time_slot       : {contract_instance.functions.time_slot().call()}\n",
    "\n",
    "orderPerSlot    : {contract_instance.functions.orderPerSlot().call()}\n",
    "N_min           : {contract_instance.functions.N_min().call()} //orderPerSlot;\n",
    "N_max           : {contract_instance.functions.N_max().call()} //orderPerSlot * ((T_end-T_start)/time_slot);\n",
    "\n",
    "T_agreement     : {contract_instance.functions.T_agreement().call()}\n",
    "\n",
    "timeProcessOrder: {contract_instance.functions.timeProcessOrder().call()}\n",
    "''')"
   ]
  },
  {
   "cell_type": "markdown",
   "metadata": {
    "slideshow": {
     "slide_type": "slide"
    }
   },
   "source": [
    "# Part 3: Making Orders"
   ]
  },
  {
   "cell_type": "code",
   "execution_count": 13,
   "metadata": {
    "slideshow": {
     "slide_type": "skip"
    }
   },
   "outputs": [
    {
     "name": "stdout",
     "output_type": "stream",
     "text": [
      "Slot wise OrderTime: [(11, 12), (21, 22), (31, 32), (41, 42), (51, 52), (61, 62), (71, 72), (81, 82), (91, 92), (101, 102)]\n"
     ]
    }
   ],
   "source": [
    "#Making 20 orders\n",
    "#let all have same OrderTime = 11,12 for now and and let fix ETA = 16,17 lets say.\n",
    "#with pair wise incrementation\n",
    "time_start = contract_instance.functions.T_start().call()\n",
    "time_end = contract_instance.functions.T_end().call()\n",
    "\n",
    "orderTime = [(i,i+1) for i in range(time_start + 1,time_end,10)]\n",
    "print(\"Slot wise OrderTime:\",orderTime)"
   ]
  },
  {
   "cell_type": "code",
   "execution_count": 14,
   "metadata": {
    "slideshow": {
     "slide_type": "skip"
    }
   },
   "outputs": [
    {
     "name": "stdout",
     "output_type": "stream",
     "text": [
      "Slot wise ETA: [(16, 17), (26, 27), (36, 37), (46, 47), (56, 57), (66, 67), (76, 77), (86, 87), (96, 97), (106, 107)]\n"
     ]
    }
   ],
   "source": [
    "etaTime = [(j,j+1) for j in range(time_start + 6 ,time_end,10)]\n",
    "print(\"Slot wise ETA:\",etaTime)"
   ]
  },
  {
   "cell_type": "code",
   "execution_count": 15,
   "metadata": {
    "slideshow": {
     "slide_type": "skip"
    }
   },
   "outputs": [
    {
     "name": "stdout",
     "output_type": "stream",
     "text": [
      "[(11, 16), (12, 17), (21, 26), (22, 27), (31, 36), (32, 37), (41, 46), (42, 47), (51, 56), (52, 57), (61, 66), (62, 67), (71, 76), (72, 77), (81, 86), (82, 87), (91, 96), (92, 97), (101, 106), (102, 107)]\n"
     ]
    }
   ],
   "source": [
    "#executing 20 orders\n",
    "orderTime_Temp = []\n",
    "for i in orderTime:\n",
    "    for j in list(i):\n",
    "        orderTime_Temp.append(j)\n",
    "\n",
    "etaTime_Temp = []\n",
    "for y in etaTime:\n",
    "    for z in list(y):\n",
    "        etaTime_Temp.append(z)\n",
    "\n",
    "OrderEtalist= list(zip(orderTime_Temp,etaTime_Temp))\n",
    "print(OrderEtalist)"
   ]
  },
  {
   "cell_type": "code",
   "execution_count": 16,
   "metadata": {
    "slideshow": {
     "slide_type": "slide"
    }
   },
   "outputs": [
    {
     "name": "stdout",
     "output_type": "stream",
     "text": [
      "order_per_slot: 2\n",
      "total_slots: 10\n",
      "\n"
     ]
    }
   ],
   "source": [
    "#Making Transaction (orders 2 * (time_end - timestart)/10) \n",
    "order_per_slot = contract_instance.functions.orderPerSlot().call()\n",
    "total_slots = contract_instance.functions.total_Slots().call()\n",
    "print('order_per_slot:',order_per_slot)\n",
    "print('total_slots:',total_slots)\n",
    "print()\n",
    "\n",
    "order_schedule_list = []\n",
    "for i in range(1,total_slots+1):\n",
    "    for j in range(order_per_slot):\n",
    "        order_schedule_list.append(i)\n"
   ]
  },
  {
   "cell_type": "code",
   "execution_count": 17,
   "metadata": {
    "slideshow": {
     "slide_type": "slide"
    }
   },
   "outputs": [
    {
     "name": "stdout",
     "output_type": "stream",
     "text": [
      "Parameters: Time slot | Time_of_order | ETA\n",
      "+-----------+----------+---------------+-----+\n",
      "| Serial No | TimeSlot | Time_of_order | ETA |\n",
      "+-----------+----------+---------------+-----+\n",
      "|     1     |    1     |       11      |  16 |\n",
      "|     2     |    1     |       12      |  17 |\n",
      "|     3     |    2     |       21      |  26 |\n",
      "|     4     |    2     |       22      |  27 |\n",
      "|     5     |    3     |       31      |  36 |\n",
      "|     6     |    3     |       32      |  37 |\n",
      "|     7     |    4     |       41      |  46 |\n",
      "|     8     |    4     |       42      |  47 |\n",
      "|     9     |    5     |       51      |  56 |\n",
      "|     10    |    5     |       52      |  57 |\n",
      "|     11    |    6     |       61      |  66 |\n",
      "|     12    |    6     |       62      |  67 |\n",
      "|     13    |    7     |       71      |  76 |\n",
      "|     14    |    7     |       72      |  77 |\n",
      "|     15    |    8     |       81      |  86 |\n",
      "|     16    |    8     |       82      |  87 |\n",
      "|     17    |    9     |       91      |  96 |\n",
      "|     18    |    9     |       92      |  97 |\n",
      "+-----------+----------+---------------+-----+\n"
     ]
    }
   ],
   "source": [
    "\n",
    "table = PrettyTable(['Serial No','TimeSlot', 'Time_of_order', 'ETA'])\n",
    "\n",
    "print('Parameters: Time slot | Time_of_order | ETA')\n",
    "\n",
    "for k,i in enumerate(list(zip(order_schedule_list,OrderEtalist))[:-2]):\n",
    "    table.add_row([k+1,i[0],i[1][0],i[1][1]])\n",
    "    contract_instance.functions.orderConsignment(i[0],i[1][0],i[1][1]).transact({'from':receiver_address})\n",
    "print(table)"
   ]
  },
  {
   "cell_type": "code",
   "execution_count": 18,
   "metadata": {
    "slideshow": {
     "slide_type": "slide"
    }
   },
   "outputs": [
    {
     "name": "stdout",
     "output_type": "stream",
     "text": [
      "+-----------+----------+---------------+-----+\n",
      "| Serial No | TimeSlot | Time_of_order | ETA |\n",
      "+-----------+----------+---------------+-----+\n",
      "|     18    |    9     |       92      |  97 |\n",
      "+-----------+----------+---------------+-----+\n",
      "VM Exception while processing transaction: revert Time Slot order Maxed\n"
     ]
    }
   ],
   "source": [
    "# Making extra order\n",
    "table = PrettyTable(['Serial No','TimeSlot', 'Time_of_order', 'ETA'])\n",
    "table.add_row([k+1,i[0],i[1][0],i[1][1]])\n",
    "print(table)\n",
    "try:\n",
    "    contract_instance.functions.orderConsignment(i[0],i[1][0],i[1][1]).transact({'from':receiver_address})\n",
    "except ValueError as e:\n",
    "    print(ast.literal_eval(str(e))['message'])"
   ]
  },
  {
   "cell_type": "code",
   "execution_count": 19,
   "metadata": {
    "slideshow": {
     "slide_type": "slide"
    }
   },
   "outputs": [
    {
     "name": "stdout",
     "output_type": "stream",
     "text": [
      "flagContinue :True\n"
     ]
    }
   ],
   "source": [
    "#checking flag continue\n",
    "print(f'flagContinue :{contract_instance.functions.flagContinue().call()}')"
   ]
  },
  {
   "cell_type": "code",
   "execution_count": 20,
   "metadata": {
    "slideshow": {
     "slide_type": "slide"
    }
   },
   "outputs": [
    {
     "name": "stdout",
     "output_type": "stream",
     "text": [
      "+-----------+----------+---------------+-----+\n",
      "| Serial No | TimeSlot | Time_of_order | ETA |\n",
      "+-----------+----------+---------------+-----+\n",
      "|     19    |    10    |      101      | 106 |\n",
      "|     20    |    10    |      102      | 107 |\n",
      "+-----------+----------+---------------+-----+\n"
     ]
    }
   ],
   "source": [
    "table = PrettyTable(['Serial No','TimeSlot', 'Time_of_order', 'ETA'])\n",
    "\n",
    "for j,i in enumerate(list(zip(order_schedule_list,OrderEtalist))[-2:]):\n",
    "    table.add_row([k+j+2,i[0],i[1][0],i[1][1]])\n",
    "    contract_instance.functions.orderConsignment(i[0],i[1][0],i[1][1]).transact({'from':receiver_address})\n",
    "\n",
    "print(table)"
   ]
  },
  {
   "cell_type": "code",
   "execution_count": 21,
   "metadata": {
    "slideshow": {
     "slide_type": "slide"
    }
   },
   "outputs": [
    {
     "name": "stdout",
     "output_type": "stream",
     "text": [
      "+-----------+----------+---------------+-----+\n",
      "| Serial No | TimeSlot | Time_of_order | ETA |\n",
      "+-----------+----------+---------------+-----+\n",
      "|     21    |    11    |      102      | 107 |\n",
      "+-----------+----------+---------------+-----+\n",
      "VM Exception while processing transaction: revert Maximum Orders Reached!\n"
     ]
    }
   ],
   "source": [
    "# Making extra order\n",
    "table = PrettyTable(['Serial No','TimeSlot', 'Time_of_order', 'ETA'])\n",
    "table.add_row([21,11,102,107])\n",
    "print(table)\n",
    "try:\n",
    "    contract_instance.functions.orderConsignment(i[0],i[1][0],i[1][1]).transact({'from':receiver_address})\n",
    "except ValueError as e:\n",
    "    print(ast.literal_eval(str(e))['message'])"
   ]
  },
  {
   "cell_type": "code",
   "execution_count": 22,
   "metadata": {
    "slideshow": {
     "slide_type": "slide"
    }
   },
   "outputs": [
    {
     "name": "stdout",
     "output_type": "stream",
     "text": [
      "Total Orders Executed: 20\n"
     ]
    }
   ],
   "source": [
    "#Checking Number of order executed. \n",
    "total_orders_executed = contract_instance.functions.OrderBookIncrementor().call()\n",
    "print(f\"Total Orders Executed: {total_orders_executed}\")"
   ]
  },
  {
   "cell_type": "code",
   "execution_count": 23,
   "metadata": {
    "slideshow": {
     "slide_type": "slide"
    }
   },
   "outputs": [
    {
     "name": "stdout",
     "output_type": "stream",
     "text": [
      "flagContinue :False\n"
     ]
    }
   ],
   "source": [
    "#checking flag continue\n",
    "print(f'flagContinue :{contract_instance.functions.flagContinue().call()}')"
   ]
  },
  {
   "cell_type": "code",
   "execution_count": 24,
   "metadata": {
    "slideshow": {
     "slide_type": "skip"
    }
   },
   "outputs": [],
   "source": [
    "# Retriving random order numbers (2 actual and 1 with error i.e. with order number 0)"
   ]
  },
  {
   "cell_type": "code",
   "execution_count": 25,
   "metadata": {
    "scrolled": true,
    "slideshow": {
     "slide_type": "slide"
    }
   },
   "outputs": [
    {
     "name": "stdout",
     "output_type": "stream",
     "text": [
      "    \n",
      "    \n",
      "Random_Order_Number:7\n",
      "consignmentnumber:7\n",
      "timeSlotOfOrder  :4\n",
      "timeOfOrder      :41\n",
      "consignmentSender:0x5A282A8025e6aAC79Ac6a8e01b462C3aC2849167\n",
      "ETA              :46\n",
      "DeliveryReviewed :False\n",
      "        \n",
      "\n",
      "    \n",
      "    \n",
      "Random_Order_Number:6\n",
      "consignmentnumber:6\n",
      "timeSlotOfOrder  :3\n",
      "timeOfOrder      :32\n",
      "consignmentSender:0x5A282A8025e6aAC79Ac6a8e01b462C3aC2849167\n",
      "ETA              :37\n",
      "DeliveryReviewed :False\n",
      "        \n",
      "\n",
      "    \n",
      "    \n",
      "Random_Order_Number:21\n",
      "consignmentnumber:0\n",
      "timeSlotOfOrder  :0\n",
      "timeOfOrder      :0\n",
      "consignmentSender:0x0000000000000000000000000000000000000000\n",
      "ETA              :0\n",
      "DeliveryReviewed :False\n",
      "        \n",
      "\n"
     ]
    }
   ],
   "source": [
    "random_orders = [i+1 for i in range(total_orders_executed)]\n",
    "_=random.sample(random_orders, 2)\n",
    "_.append(total_orders_executed+1)\n",
    "\n",
    "for i in _:\n",
    "    print(f'''    \n",
    "    \n",
    "Random_Order_Number:{i}\n",
    "consignmentnumber:{contract_instance.functions.orderBookConsignment(i).call()[0]}\n",
    "timeSlotOfOrder  :{contract_instance.functions.orderBookConsignment(i).call()[1]}\n",
    "timeOfOrder      :{contract_instance.functions.orderBookConsignment(i).call()[2]}\n",
    "consignmentSender:{contract_instance.functions.orderBookConsignment(i).call()[3]}\n",
    "ETA              :{contract_instance.functions.orderBookConsignment(i).call()[4]}\n",
    "DeliveryReviewed :{contract_instance.functions.orderBookConsignment(i).call()[5]}\n",
    "        ''')\n",
    "    print()\n",
    "    \n"
   ]
  },
  {
   "cell_type": "markdown",
   "metadata": {
    "slideshow": {
     "slide_type": "slide"
    }
   },
   "source": [
    "# Part 4: Receiving Orders"
   ]
  },
  {
   "cell_type": "code",
   "execution_count": 26,
   "metadata": {
    "slideshow": {
     "slide_type": "skip"
    }
   },
   "outputs": [],
   "source": [
    "accepting_orders = {\n",
    "        0: (True),\n",
    "        1: (True),\n",
    "        2: (True),\n",
    "        3: (True),\n",
    "        4: (True),\n",
    "        5: (True),\n",
    "        6: (True),\n",
    "        7: (True),\n",
    "        8: (True),\n",
    "        9: (False)   \n",
    "    }"
   ]
  },
  {
   "cell_type": "code",
   "execution_count": 27,
   "metadata": {
    "slideshow": {
     "slide_type": "skip"
    }
   },
   "outputs": [
    {
     "name": "stdout",
     "output_type": "stream",
     "text": [
      "[False, True, True, False, True, False, True, True, True, True, True, True, True, True, True, True, True, True, False, True]\n"
     ]
    }
   ],
   "source": [
    "#making random acceptance\n",
    "acceptance_list = []\n",
    "for i in range(total_orders_executed):\n",
    "    acceptance_list.append(accepting_orders[random.randrange(0,10)])\n",
    "    \n",
    "print(acceptance_list)"
   ]
  },
  {
   "cell_type": "code",
   "execution_count": 28,
   "metadata": {
    "slideshow": {
     "slide_type": "skip"
    }
   },
   "outputs": [
    {
     "name": "stdout",
     "output_type": "stream",
     "text": [
      "[15, 16, 25, 26, 35, 36, 45, 46, 55, 56, 65, 66, 75, 76, 85, 86, 95, 96, 105, 106]\n"
     ]
    }
   ],
   "source": [
    "#Receiving 20\n",
    "#lets assume everything is in range ±ETA \n",
    "eta_list = []\n",
    "time_to_receive_consignments = [(i,i+1) for i in range(time_start + 5,time_end,10)]\n",
    "# print(time_to_receive_consignments)\n",
    "for i in time_to_receive_consignments:\n",
    "    for j in range(len(i)):\n",
    "#         print(i[j])\n",
    "        eta_list.append(i[j])\n",
    "    \n",
    "print(eta_list)"
   ]
  },
  {
   "cell_type": "code",
   "execution_count": 29,
   "metadata": {
    "slideshow": {
     "slide_type": "slide"
    }
   },
   "outputs": [
    {
     "name": "stdout",
     "output_type": "stream",
     "text": [
      "+-------------+-----------+-------------+--------------+\n",
      "| OrderNumber | Accepting | Buyer's ETA | Seller's ETA |\n",
      "+-------------+-----------+-------------+--------------+\n",
      "|      1      |   False   |      0      |      15      |\n",
      "|      2      |    True   |      16     |      16      |\n",
      "|      3      |    True   |      25     |      25      |\n",
      "|      4      |   False   |      0      |      26      |\n",
      "|      5      |    True   |      35     |      35      |\n",
      "|      6      |   False   |      0      |      36      |\n",
      "|      7      |    True   |      45     |      45      |\n",
      "|      8      |    True   |      46     |      46      |\n",
      "|      9      |    True   |      55     |      55      |\n",
      "|      10     |    True   |      56     |      56      |\n",
      "|      11     |    True   |      65     |      65      |\n",
      "|      12     |    True   |      66     |      66      |\n",
      "|      13     |    True   |      75     |      75      |\n",
      "|      14     |    True   |      76     |      76      |\n",
      "|      15     |    True   |      85     |      85      |\n",
      "|      16     |    True   |      86     |      86      |\n",
      "|      17     |    True   |      95     |      95      |\n",
      "|      18     |    True   |      96     |      96      |\n",
      "+-------------+-----------+-------------+--------------+\n"
     ]
    }
   ],
   "source": [
    "# now executing the order\n",
    "table = PrettyTable(['OrderNumber','Accepting', \"Buyer's ETA\",\"Seller's ETA\"])\n",
    "\n",
    "for i,j in enumerate(list(zip(acceptance_list,eta_list))[:-2]):\n",
    "    if(j[0]==False):\n",
    "#         print(i+1,j[0],0)\n",
    "        table.add_row([i+1,j[0],0,j[1]])\n",
    "        contract_instance.functions.senderETA(i+1,j[1]).transact({'from':sender_address})\n",
    "        contract_instance.functions.receiverConsignement(i+1,j[0],0).transact({'from':receiver_address})\n",
    "    else:\n",
    "#         print(i+1,j[0],j[1])\n",
    "        table.add_row([i+1,j[0],j[1],j[1]])\n",
    "        contract_instance.functions.senderETA(i+1,j[1]).transact({'from':sender_address})\n",
    "        contract_instance.functions.receiverConsignement(i+1,j[0],j[1]).transact({'from':receiver_address})\n",
    "    \n",
    "print(table)     "
   ]
  },
  {
   "cell_type": "code",
   "execution_count": null,
   "metadata": {},
   "outputs": [],
   "source": []
  },
  {
   "cell_type": "code",
   "execution_count": 30,
   "metadata": {
    "slideshow": {
     "slide_type": "slide"
    }
   },
   "outputs": [
    {
     "name": "stdout",
     "output_type": "stream",
     "text": [
      "ContractEndAgreement :False\n"
     ]
    }
   ],
   "source": [
    "# Minor check to show that when the flagContinue is true, you cannot call the checkpeformace function.\n",
    "print(f'ContractEndAgreement :{contract_instance.functions.ContractEndAgreement().call()}')"
   ]
  },
  {
   "cell_type": "code",
   "execution_count": 31,
   "metadata": {
    "slideshow": {
     "slide_type": "slide"
    }
   },
   "outputs": [
    {
     "name": "stdout",
     "output_type": "stream",
     "text": [
      "+-------------+-----------+-------------+--------------+\n",
      "| OrderNumber | Accepting | Buyer's ETA | Seller's ETA |\n",
      "+-------------+-----------+-------------+--------------+\n",
      "|      19     |    True   |     105     |     105      |\n",
      "|      20     |    True   |     106     |     106      |\n",
      "+-------------+-----------+-------------+--------------+\n"
     ]
    },
    {
     "data": {
      "text/plain": [
       "HexBytes('0x349776548d62618f483d824d71b7781736217a6b85a6d2bdcc3aa5b79800cb53')"
      ]
     },
     "execution_count": 31,
     "metadata": {},
     "output_type": "execute_result"
    }
   ],
   "source": [
    "table = PrettyTable(['OrderNumber','Accepting', \"Buyer's ETA\",\"Seller's ETA\"])\n",
    "table.add_row([19,True,105,105])\n",
    "table.add_row([20,True,106,106])\n",
    "print(table)\n",
    "contract_instance.functions.senderETA(19,105).transact({'from':sender_address})\n",
    "contract_instance.functions.receiverConsignement(19,True,105).transact({'from':receiver_address})\n",
    "contract_instance.functions.senderETA(20,106).transact({'from':sender_address})\n",
    "contract_instance.functions.receiverConsignement(20,False,0).transact({'from':receiver_address})\n"
   ]
  },
  {
   "cell_type": "code",
   "execution_count": 32,
   "metadata": {
    "scrolled": true,
    "slideshow": {
     "slide_type": "slide"
    }
   },
   "outputs": [
    {
     "name": "stdout",
     "output_type": "stream",
     "text": [
      "ContractEndAgreement :True\n"
     ]
    }
   ],
   "source": [
    "# Minor check to show that when the flagContinue is true, you cannot call the checkpeformace function.\n",
    "print(f'ContractEndAgreement :{contract_instance.functions.ContractEndAgreement().call()}')"
   ]
  },
  {
   "cell_type": "code",
   "execution_count": 33,
   "metadata": {
    "slideshow": {
     "slide_type": "slide"
    }
   },
   "outputs": [
    {
     "name": "stdout",
     "output_type": "stream",
     "text": [
      "VM Exception while processing transaction: revert Decision is Made!\n"
     ]
    }
   ],
   "source": [
    "#Now if we receive order, We should get error:\n",
    "import ast\n",
    "try:\n",
    "    contract_instance.functions.receiverConsignement(20,True,106).transact({'from':receiver_address})\n",
    "except ValueError as e:\n",
    "    print(ast.literal_eval(str(e))['message'])"
   ]
  },
  {
   "cell_type": "code",
   "execution_count": 34,
   "metadata": {
    "slideshow": {
     "slide_type": "slide"
    }
   },
   "outputs": [
    {
     "name": "stdout",
     "output_type": "stream",
     "text": [
      "Note: if the delivery was not accepted, the flagDecision will be final (True) i.e. not changes can be made \n",
      "Delivery Status Notation: 0-None,1-Success,2-Failed,3-Disputed\n",
      "   \n",
      "    \n",
      "Random_Order_Number:4\n",
      "\n",
      "consignmentnumber       : 4\n",
      "consignmentOrderTime    : 0\n",
      "consignmnetShippingTime : 0\n",
      "ETAasPerOrder           : 27\n",
      "RobETA                  : 0\n",
      "SallyETA                : 26\n",
      "consignmentSender       : 0x0000000000000000000000000000000000000000\n",
      "DeliveryStatusOnDelivery: 2\n",
      "flagDecision            : True\n",
      "\n",
      "   \n",
      "    \n",
      "Random_Order_Number:1\n",
      "\n",
      "consignmentnumber       : 1\n",
      "consignmentOrderTime    : 0\n",
      "consignmnetShippingTime : 0\n",
      "ETAasPerOrder           : 16\n",
      "RobETA                  : 0\n",
      "SallyETA                : 15\n",
      "consignmentSender       : 0x0000000000000000000000000000000000000000\n",
      "DeliveryStatusOnDelivery: 2\n",
      "flagDecision            : True\n",
      "\n"
     ]
    }
   ],
   "source": [
    "random_orders = [i+1 for i in range(total_orders_executed)]\n",
    "_=random.sample(random_orders, 2)\n",
    "\n",
    "print(\"Note: if the delivery was not accepted, the flagDecision will be final (True) i.e. not changes can be made \")\n",
    "print(\"Delivery Status Notation: 0-None,1-Success,2-Failed,3-Disputed\")\n",
    "\n",
    "for i in _:\n",
    "    print(f'''   \n",
    "    \n",
    "Random_Order_Number:{i}\n",
    "\n",
    "consignmentnumber       : {contract_instance.functions.receivingConsignmentBook(i).call()[0]}\n",
    "consignmentOrderTime    : {contract_instance.functions.receivingConsignmentBook(i).call()[1]}\n",
    "consignmnetShippingTime : {contract_instance.functions.receivingConsignmentBook(i).call()[2]}\n",
    "ETAasPerOrder           : {contract_instance.functions.receivingConsignmentBook(i).call()[3]}\n",
    "RobETA                  : {contract_instance.functions.receivingConsignmentBook(i).call()[4]}\n",
    "SallyETA                : {contract_instance.functions.receivingConsignmentBook(i).call()[5]}\n",
    "consignmentSender       : {contract_instance.functions.receivingConsignmentBook(i).call()[6]}\n",
    "DeliveryStatusOnDelivery: {contract_instance.functions.receivingConsignmentBook(i).call()[7]}\n",
    "flagDecision            : {contract_instance.functions.receivingConsignmentBook(i).call()[8]}\n",
    "''')\n",
    "\n",
    "    "
   ]
  },
  {
   "cell_type": "code",
   "execution_count": 35,
   "metadata": {
    "slideshow": {
     "slide_type": "slide"
    }
   },
   "outputs": [
    {
     "name": "stdout",
     "output_type": "stream",
     "text": [
      "VM Exception while processing transaction: revert Decision is Made!\n",
      "VM Exception while processing transaction: revert Decision is Made!\n",
      "VM Exception while processing transaction: revert Decision is Made!\n",
      "VM Exception while processing transaction: revert Decision is Made!\n"
     ]
    }
   ],
   "source": [
    "# Finalizing the Deal (verifying with ETA)\n",
    "total_orders_received = contract_instance.functions.N().call() #both accepted and rejected\n",
    "\n",
    "for i in range(len(acceptance_list)):\n",
    "    try:\n",
    "        contract_instance.functions.settingFlagDecision(i+1).transact({'from':receiver_address})\n",
    "    except ValueError as e:\n",
    "        print(ast.literal_eval(str(e))['message'])\n",
    "    \n",
    "    \n",
    "       \n",
    "    \n",
    "    \n"
   ]
  },
  {
   "cell_type": "code",
   "execution_count": 36,
   "metadata": {
    "slideshow": {
     "slide_type": "skip"
    }
   },
   "outputs": [
    {
     "name": "stdout",
     "output_type": "stream",
     "text": [
      "17\n"
     ]
    }
   ],
   "source": [
    "print(k)"
   ]
  },
  {
   "cell_type": "code",
   "execution_count": 37,
   "metadata": {
    "slideshow": {
     "slide_type": "slide"
    }
   },
   "outputs": [
    {
     "name": "stdout",
     "output_type": "stream",
     "text": [
      "Note: if the delivery was not accepted, the flagDecision will be final (True) i.e. not changes can be made \n",
      "Delivery Status Notation: 0-None,1-Success,2-Failed,3-Disputed\n",
      "   \n",
      "    \n",
      "Random_Order_Number:20\n",
      "\n",
      "consignmentnumber       : 20\n",
      "consignmentOrderTime    : 0\n",
      "consignmnetShippingTime : 0\n",
      "ETAasPerOrder           : 107\n",
      "RobETA                  : 0\n",
      "SallyETA                : 106\n",
      "consignmentSender       : 0x0000000000000000000000000000000000000000\n",
      "DeliveryStatusOnDelivery: 2\n",
      "flagDecision            : True\n",
      "\n",
      "   \n",
      "    \n",
      "Random_Order_Number:19\n",
      "\n",
      "consignmentnumber       : 19\n",
      "consignmentOrderTime    : 0\n",
      "consignmnetShippingTime : 0\n",
      "ETAasPerOrder           : 106\n",
      "RobETA                  : 105\n",
      "SallyETA                : 105\n",
      "consignmentSender       : 0x0000000000000000000000000000000000000000\n",
      "DeliveryStatusOnDelivery: 1\n",
      "flagDecision            : True\n",
      "\n"
     ]
    }
   ],
   "source": [
    "random_orders = [i+1 for i in range(total_orders_executed)]\n",
    "_=random.sample(random_orders, 2)\n",
    "\n",
    "print(\"Note: if the delivery was not accepted, the flagDecision will be final (True) i.e. not changes can be made \")\n",
    "print(\"Delivery Status Notation: 0-None,1-Success,2-Failed,3-Disputed\")\n",
    "\n",
    "for i in _:\n",
    "    print(f'''   \n",
    "    \n",
    "Random_Order_Number:{i}\n",
    "\n",
    "consignmentnumber       : {contract_instance.functions.receivingConsignmentBook(i).call()[0]}\n",
    "consignmentOrderTime    : {contract_instance.functions.receivingConsignmentBook(i).call()[1]}\n",
    "consignmnetShippingTime : {contract_instance.functions.receivingConsignmentBook(i).call()[2]}\n",
    "ETAasPerOrder           : {contract_instance.functions.receivingConsignmentBook(i).call()[3]}\n",
    "RobETA                  : {contract_instance.functions.receivingConsignmentBook(i).call()[4]}\n",
    "SallyETA                : {contract_instance.functions.receivingConsignmentBook(i).call()[5]}\n",
    "consignmentSender       : {contract_instance.functions.receivingConsignmentBook(i).call()[6]}\n",
    "DeliveryStatusOnDelivery: {contract_instance.functions.receivingConsignmentBook(i).call()[7]}\n",
    "flagDecision            : {contract_instance.functions.receivingConsignmentBook(i).call()[8]}\n",
    "''')\n"
   ]
  },
  {
   "cell_type": "code",
   "execution_count": 38,
   "metadata": {
    "slideshow": {
     "slide_type": "slide"
    }
   },
   "outputs": [
    {
     "name": "stdout",
     "output_type": "stream",
     "text": [
      "ORDERBOOK:\n",
      "    \n",
      "\n",
      "Random_Order_Number:11\n",
      "consignmentnumber:11\n",
      "timeSlotOfOrder  :6\n",
      "timeOfOrder      :61\n",
      "consignmentSender:0x5A282A8025e6aAC79Ac6a8e01b462C3aC2849167\n",
      "ETA              :66\n",
      "DeliveryReviewed :True\n",
      "        \n",
      "\n",
      "    \n",
      "\n",
      "Random_Order_Number:8\n",
      "consignmentnumber:8\n",
      "timeSlotOfOrder  :4\n",
      "timeOfOrder      :42\n",
      "consignmentSender:0x5A282A8025e6aAC79Ac6a8e01b462C3aC2849167\n",
      "ETA              :47\n",
      "DeliveryReviewed :True\n",
      "        \n",
      "\n"
     ]
    }
   ],
   "source": [
    "random_orders = [i+1 for i in range(total_orders_executed)]\n",
    "_=random.sample(random_orders, 2)\n",
    "\n",
    "print(\"ORDERBOOK:\")\n",
    "for i in _:\n",
    "    print(f'''    \n",
    "\n",
    "Random_Order_Number:{i}\n",
    "consignmentnumber:{contract_instance.functions.orderBookConsignment(i).call()[0]}\n",
    "timeSlotOfOrder  :{contract_instance.functions.orderBookConsignment(i).call()[1]}\n",
    "timeOfOrder      :{contract_instance.functions.orderBookConsignment(i).call()[2]}\n",
    "consignmentSender:{contract_instance.functions.orderBookConsignment(i).call()[3]}\n",
    "ETA              :{contract_instance.functions.orderBookConsignment(i).call()[4]}\n",
    "DeliveryReviewed :{contract_instance.functions.orderBookConsignment(i).call()[5]}\n",
    "        ''')\n",
    "    print()\n",
    "    "
   ]
  },
  {
   "cell_type": "markdown",
   "metadata": {
    "slideshow": {
     "slide_type": "slide"
    }
   },
   "source": [
    "#### Reteriving Information from the blockchain"
   ]
  },
  {
   "cell_type": "code",
   "execution_count": 39,
   "metadata": {
    "slideshow": {
     "slide_type": "slide"
    }
   },
   "outputs": [
    {
     "name": "stdout",
     "output_type": "stream",
     "text": [
      "\n",
      "N                    : 20\n",
      "s                    : 16\n",
      "f                    : 4\n",
      "d                    : 0\n",
      "flagContinue         : False\n",
      "\n"
     ]
    }
   ],
   "source": [
    "print(f'''\n",
    "N                    : {contract_instance.functions.N().call()}\n",
    "s                    : {contract_instance.functions.s().call()}\n",
    "f                    : {contract_instance.functions.f().call()}\n",
    "d                    : {contract_instance.functions.d().call()}\n",
    "flagContinue         : {contract_instance.functions.flagContinue().call()}\n",
    "''')"
   ]
  },
  {
   "cell_type": "code",
   "execution_count": 40,
   "metadata": {
    "slideshow": {
     "slide_type": "slide"
    }
   },
   "outputs": [
    {
     "name": "stdout",
     "output_type": "stream",
     "text": [
      "True\n"
     ]
    }
   ],
   "source": [
    "#verification\n",
    "assert(contract_instance.functions.N().call() == contract_instance.functions.s().call() + contract_instance.functions.f().call() + contract_instance.functions.d().call())\n",
    "print(True)"
   ]
  },
  {
   "cell_type": "code",
   "execution_count": null,
   "metadata": {
    "slideshow": {
     "slide_type": "skip"
    }
   },
   "outputs": [],
   "source": []
  },
  {
   "cell_type": "code",
   "execution_count": 41,
   "metadata": {
    "slideshow": {
     "slide_type": "slide"
    }
   },
   "outputs": [
    {
     "name": "stdout",
     "output_type": "stream",
     "text": [
      "\n",
      "Random_Order_Number:17\n",
      "consignmentnumber:17\n",
      "timeSlotOfOrder  :9\n",
      "timeOfOrder      :91\n",
      "consignmentSender:0x5A282A8025e6aAC79Ac6a8e01b462C3aC2849167\n",
      "ETA              :96\n",
      "DeliveryReviewed :True\n",
      "        \n",
      "\n",
      "\n",
      "Random_Order_Number:19\n",
      "consignmentnumber:19\n",
      "timeSlotOfOrder  :10\n",
      "timeOfOrder      :101\n",
      "consignmentSender:0x5A282A8025e6aAC79Ac6a8e01b462C3aC2849167\n",
      "ETA              :106\n",
      "DeliveryReviewed :True\n",
      "        \n",
      "\n",
      "\n",
      "Random_Order_Number:21\n",
      "consignmentnumber:0\n",
      "timeSlotOfOrder  :0\n",
      "timeOfOrder      :0\n",
      "consignmentSender:0x0000000000000000000000000000000000000000\n",
      "ETA              :0\n",
      "DeliveryReviewed :False\n",
      "        \n",
      "\n"
     ]
    }
   ],
   "source": [
    "random_orders = [i+1 for i in range(total_orders_executed)]\n",
    "_=random.sample(random_orders, 2)\n",
    "_.append(total_orders_executed+1)\n",
    "\n",
    "\n",
    "for i in _:\n",
    "    print(f'''\n",
    "Random_Order_Number:{i}\n",
    "consignmentnumber:{contract_instance.functions.orderBookConsignment(i).call()[0]}\n",
    "timeSlotOfOrder  :{contract_instance.functions.orderBookConsignment(i).call()[1]}\n",
    "timeOfOrder      :{contract_instance.functions.orderBookConsignment(i).call()[2]}\n",
    "consignmentSender:{contract_instance.functions.orderBookConsignment(i).call()[3]}\n",
    "ETA              :{contract_instance.functions.orderBookConsignment(i).call()[4]}\n",
    "DeliveryReviewed :{contract_instance.functions.orderBookConsignment(i).call()[5]}\n",
    "        ''')\n",
    "    print()\n",
    "    \n"
   ]
  },
  {
   "cell_type": "markdown",
   "metadata": {
    "slideshow": {
     "slide_type": "slide"
    }
   },
   "source": [
    "# Part 5: Scenario with a dispute"
   ]
  },
  {
   "cell_type": "markdown",
   "metadata": {
    "slideshow": {
     "slide_type": "slide"
    }
   },
   "source": [
    "<p>We \"Redeployed\" the contract with the same set of parameters and made orders. (With new GANACHE environment)</p>"
   ]
  },
  {
   "cell_type": "code",
   "execution_count": 75,
   "metadata": {
    "slideshow": {
     "slide_type": "skip"
    }
   },
   "outputs": [
    {
     "name": "stdout",
     "output_type": "stream",
     "text": [
      "isConnected to Ganache: True\n"
     ]
    }
   ],
   "source": [
    "\n",
    "# Connect to Ganache\n",
    "from web3 import Web3\n",
    "web3 = Web3(Web3.HTTPProvider('HTTP://127.0.0.1:7545'))\n",
    "print(\"isConnected to Ganache:\",web3.isConnected())\n"
   ]
  },
  {
   "cell_type": "code",
   "execution_count": 76,
   "metadata": {
    "slideshow": {
     "slide_type": "skip"
    }
   },
   "outputs": [
    {
     "name": "stdout",
     "output_type": "stream",
     "text": [
      "0x2F8B45eC52EA714B3edB8123897d146871D4B8Ba\n",
      "0x1B6296f8fe970277e91fB66F54B0031207011766\n",
      "0x32a59DE6450485D8ecF36284c173f82546008e66\n",
      "0x2ff6f2D7d65cdE81AA312F8a0f4600dE74cAc8bA\n",
      "0xea28b4Ae8d2dA8F9e892c969F51db173210B49A5\n",
      "0xcD726FC38bA747112F476429EC1840c8a33F3fba\n"
     ]
    }
   ],
   "source": [
    "#gettin lists of accounts available, Account[0] will be like an auditor account\n",
    "accounts_list = web3.eth.accounts\n",
    "for i in accounts_list:\n",
    "    print(i)"
   ]
  },
  {
   "cell_type": "code",
   "execution_count": 77,
   "metadata": {
    "slideshow": {
     "slide_type": "slide"
    }
   },
   "outputs": [
    {
     "name": "stdout",
     "output_type": "stream",
     "text": [
      "Buyer's Address: 0x2F8B45eC52EA714B3edB8123897d146871D4B8Ba\n"
     ]
    }
   ],
   "source": [
    "#Receiver's Address will be first from the list\n",
    "receiver_address = accounts_list[0]\n",
    "print(\"Buyer's Address:\",receiver_address)\n"
   ]
  },
  {
   "cell_type": "code",
   "execution_count": 78,
   "metadata": {
    "slideshow": {
     "slide_type": "slide"
    }
   },
   "outputs": [
    {
     "name": "stdout",
     "output_type": "stream",
     "text": [
      "Seller's Address: 0x1B6296f8fe970277e91fB66F54B0031207011766\n"
     ]
    }
   ],
   "source": [
    "#Senders Address will be second from the list\n",
    "sender_address = accounts_list[1]\n",
    "print(\"Seller's Address:\",sender_address)"
   ]
  },
  {
   "cell_type": "code",
   "execution_count": null,
   "metadata": {
    "slideshow": {
     "slide_type": "skip"
    }
   },
   "outputs": [],
   "source": []
  },
  {
   "cell_type": "code",
   "execution_count": 79,
   "metadata": {
    "slideshow": {
     "slide_type": "skip"
    }
   },
   "outputs": [
    {
     "name": "stdout",
     "output_type": "stream",
     "text": [
      "[(11, 16), (12, 17), (21, 26), (22, 27), (31, 36), (32, 37), (41, 46), (42, 47), (51, 56), (52, 57), (61, 66), (62, 67), (71, 76), (72, 77), (81, 86), (82, 87), (91, 96), (92, 97), (101, 106), (102, 107)]\n"
     ]
    }
   ],
   "source": [
    "#executing 20 orders\n",
    "orderTime_Temp = []\n",
    "for i in orderTime:\n",
    "    for j in list(i):\n",
    "        orderTime_Temp.append(j)\n",
    "\n",
    "etaTime_Temp = []\n",
    "for y in etaTime:\n",
    "    for z in list(y):\n",
    "        etaTime_Temp.append(z)\n",
    "\n",
    "OrderEtalist= list(zip(orderTime_Temp,etaTime_Temp))\n",
    "print(OrderEtalist)"
   ]
  },
  {
   "cell_type": "code",
   "execution_count": 85,
   "metadata": {
    "slideshow": {
     "slide_type": "skip"
    }
   },
   "outputs": [],
   "source": [
    "with open('build/contracts/TradingAgreement.json') as f:\n",
    "  migration = json.load(f)\n",
    "\n",
    "migration_contract = migration['networks']['5777']['address']\n",
    "migration_abi = migration['abi']\n",
    "\n",
    "contract_instance = web3.eth.contract(abi=migration_abi, address=migration_contract)"
   ]
  },
  {
   "cell_type": "markdown",
   "metadata": {
    "slideshow": {
     "slide_type": "skip"
    }
   },
   "source": [
    "#### Some Basic Information about the company (call function(s))"
   ]
  },
  {
   "cell_type": "code",
   "execution_count": 87,
   "metadata": {
    "slideshow": {
     "slide_type": "skip"
    }
   },
   "outputs": [
    {
     "name": "stdout",
     "output_type": "stream",
     "text": [
      "\n",
      "OwnerCompany : 0x2F8B45eC52EA714B3edB8123897d146871D4B8Ba\n",
      "OwnerAddress : Rob's Company\n",
      "\n",
      "SenderCompany: Sally's Company\n",
      "SenderAddress: 0x1B6296f8fe970277e91fB66F54B0031207011766\n",
      "\n"
     ]
    }
   ],
   "source": [
    "#Information about sender and receiver\n",
    "\n",
    "print(f'''\n",
    "OwnerCompany : {contract_instance.functions.ownerReceiver().call()}\n",
    "OwnerAddress : {contract_instance.functions.ownerCompanyName().call()}\n",
    "\n",
    "SenderCompany: {contract_instance.functions.senderCompanyName().call()}\n",
    "SenderAddress: {contract_instance.functions.senderAddress().call()}\n",
    "''')"
   ]
  },
  {
   "cell_type": "code",
   "execution_count": 88,
   "metadata": {
    "scrolled": true,
    "slideshow": {
     "slide_type": "skip"
    }
   },
   "outputs": [
    {
     "name": "stdout",
     "output_type": "stream",
     "text": [
      "\n",
      "\n",
      "T_Deployment    : 0\n",
      "T_start         : 10\n",
      "T_end           : 110\n",
      "\n",
      "time_slot       : 10\n",
      "\n",
      "orderPerSlot    : 2\n",
      "N_min           : 2 //orderPerSlot;\n",
      "N_max           : 20 //orderPerSlot * ((T_end-T_start)/time_slot);\n",
      "\n",
      "T_agreement     : 10\n",
      "\n",
      "timeProcessOrder: 2\n",
      "\n"
     ]
    }
   ],
   "source": [
    "#Other constructor Information\n",
    "\n",
    "print(f'''\n",
    "\n",
    "T_Deployment    : {contract_instance.functions.T_Deployment().call()}\n",
    "T_start         : {contract_instance.functions.T_start().call()}\n",
    "T_end           : {contract_instance.functions.T_end().call()}\n",
    "\n",
    "time_slot       : {contract_instance.functions.time_slot().call()}\n",
    "\n",
    "orderPerSlot    : {contract_instance.functions.orderPerSlot().call()}\n",
    "N_min           : {contract_instance.functions.N_min().call()} //orderPerSlot;\n",
    "N_max           : {contract_instance.functions.N_max().call()} //orderPerSlot * ((T_end-T_start)/time_slot);\n",
    "\n",
    "T_agreement     : {contract_instance.functions.T_agreement().call()}\n",
    "\n",
    "timeProcessOrder: {contract_instance.functions.timeProcessOrder().call()}\n",
    "''')"
   ]
  },
  {
   "cell_type": "markdown",
   "metadata": {
    "slideshow": {
     "slide_type": "slide"
    }
   },
   "source": [
    "# Part 5.1: Making orders"
   ]
  },
  {
   "cell_type": "code",
   "execution_count": 89,
   "metadata": {
    "slideshow": {
     "slide_type": "skip"
    }
   },
   "outputs": [
    {
     "name": "stdout",
     "output_type": "stream",
     "text": [
      "Slot wise OrderTime: [(11, 12), (21, 22), (31, 32), (41, 42), (51, 52), (61, 62), (71, 72), (81, 82), (91, 92), (101, 102)]\n"
     ]
    }
   ],
   "source": [
    "#Making 20 orders\n",
    "#let all have same OrderTime = 11,12 for now and and let fix ETA = 16,17 lets say.\n",
    "#with pair wise incrementation\n",
    "\n",
    "orderTime = [(i,i+1) for i in range(time_start + 1,time_end,10)]\n",
    "print(\"Slot wise OrderTime:\",orderTime)"
   ]
  },
  {
   "cell_type": "code",
   "execution_count": 90,
   "metadata": {
    "slideshow": {
     "slide_type": "skip"
    }
   },
   "outputs": [
    {
     "name": "stdout",
     "output_type": "stream",
     "text": [
      "Slot wise ETA: [(16, 17), (26, 27), (36, 37), (46, 47), (56, 57), (66, 67), (76, 77), (86, 87), (96, 97), (106, 107)]\n"
     ]
    }
   ],
   "source": [
    "etaTime = [(j,j+1) for j in range(time_start + 6 ,time_end,10)]\n",
    "print(\"Slot wise ETA:\",etaTime)"
   ]
  },
  {
   "cell_type": "code",
   "execution_count": 91,
   "metadata": {
    "slideshow": {
     "slide_type": "skip"
    }
   },
   "outputs": [
    {
     "name": "stdout",
     "output_type": "stream",
     "text": [
      "order_per_slot: 2\n",
      "total_slots: 10\n",
      "\n"
     ]
    }
   ],
   "source": [
    "#Making Transaction (orders 2 * (time_end - timestart)/10) \n",
    "order_per_slot = contract_instance.functions.orderPerSlot().call()\n",
    "total_slots = contract_instance.functions.total_Slots().call()\n",
    "print('order_per_slot:',order_per_slot)\n",
    "print('total_slots:',total_slots)\n",
    "print()\n",
    "\n",
    "order_schedule_list = []\n",
    "for i in range(1,total_slots+1):\n",
    "    for j in range(order_per_slot):\n",
    "        order_schedule_list.append(i)\n"
   ]
  },
  {
   "cell_type": "code",
   "execution_count": 92,
   "metadata": {
    "slideshow": {
     "slide_type": "slide"
    }
   },
   "outputs": [
    {
     "name": "stdout",
     "output_type": "stream",
     "text": [
      "Parameters: Time slot | Time_of_order | ETA\n",
      "+-----------+----------+---------------+-----+\n",
      "| Serial No | TimeSlot | Time_of_order | ETA |\n",
      "+-----------+----------+---------------+-----+\n",
      "|     1     |    1     |       11      |  16 |\n",
      "|     2     |    1     |       12      |  17 |\n",
      "|     3     |    2     |       21      |  26 |\n",
      "|     4     |    2     |       22      |  27 |\n",
      "|     5     |    3     |       31      |  36 |\n",
      "|     6     |    3     |       32      |  37 |\n",
      "|     7     |    4     |       41      |  46 |\n",
      "|     8     |    4     |       42      |  47 |\n",
      "|     9     |    5     |       51      |  56 |\n",
      "|     10    |    5     |       52      |  57 |\n",
      "|     11    |    6     |       61      |  66 |\n",
      "|     12    |    6     |       62      |  67 |\n",
      "|     13    |    7     |       71      |  76 |\n",
      "|     14    |    7     |       72      |  77 |\n",
      "|     15    |    8     |       81      |  86 |\n",
      "|     16    |    8     |       82      |  87 |\n",
      "|     17    |    9     |       91      |  96 |\n",
      "|     18    |    9     |       92      |  97 |\n",
      "|     19    |    10    |      101      | 106 |\n",
      "|     20    |    10    |      102      | 107 |\n",
      "+-----------+----------+---------------+-----+\n"
     ]
    }
   ],
   "source": [
    "\n",
    "table = PrettyTable(['Serial No','TimeSlot', 'Time_of_order', 'ETA'])\n",
    "\n",
    "print('Parameters: Time slot | Time_of_order | ETA')\n",
    "\n",
    "for k,i in enumerate(list(zip(order_schedule_list,OrderEtalist))):\n",
    "    table.add_row([k+1,i[0],i[1][0],i[1][1]])\n",
    "    contract_instance.functions.orderConsignment(i[0],i[1][0],i[1][1]).transact({'from':receiver_address})\n",
    "print(table)"
   ]
  },
  {
   "cell_type": "code",
   "execution_count": 93,
   "metadata": {
    "slideshow": {
     "slide_type": "slide"
    }
   },
   "outputs": [
    {
     "name": "stdout",
     "output_type": "stream",
     "text": [
      "Total Orders Executed: 20\n",
      "flagContinue :False\n"
     ]
    }
   ],
   "source": [
    "#Checking Number of order executed. \n",
    "total_orders_executed = contract_instance.functions.OrderBookIncrementor().call()\n",
    "print(f\"Total Orders Executed: {total_orders_executed}\")\n",
    "#checking flag continue\n",
    "print(f'flagContinue :{contract_instance.functions.flagContinue().call()}')"
   ]
  },
  {
   "cell_type": "markdown",
   "metadata": {
    "slideshow": {
     "slide_type": "slide"
    }
   },
   "source": [
    "# Part 5.2: Receiving Orders\n",
    "<p>We will receive 19 orders at random and one order we will specify as a disputed order. </p>\n",
    "<p>We plan to have 19th order as a disputed</p>\n",
    "<p>Scenario:<br> ETA(as per order) 106\n",
    "Seller will claim the ETA at 106 but Buyer doesn't agree and sets ETA at 109 (which is out of range of margined ETA)\n",
    "<p>"
   ]
  },
  {
   "cell_type": "code",
   "execution_count": 94,
   "metadata": {
    "slideshow": {
     "slide_type": "slide"
    }
   },
   "outputs": [
    {
     "name": "stdout",
     "output_type": "stream",
     "text": [
      "+-------------+-----------+-------------+--------------+\n",
      "| OrderNumber | Accepting | Buyer's ETA | Seller's ETA |\n",
      "+-------------+-----------+-------------+--------------+\n",
      "|      1      |   False   |      0      |      15      |\n",
      "|      2      |    True   |      16     |      16      |\n",
      "|      3      |    True   |      25     |      25      |\n",
      "|      4      |   False   |      0      |      26      |\n",
      "|      5      |    True   |      35     |      35      |\n",
      "|      6      |   False   |      0      |      36      |\n",
      "|      7      |    True   |      45     |      45      |\n",
      "|      8      |    True   |      46     |      46      |\n",
      "|      9      |    True   |      55     |      55      |\n",
      "|      10     |    True   |      56     |      56      |\n",
      "|      11     |    True   |      65     |      65      |\n",
      "|      12     |    True   |      66     |      66      |\n",
      "|      13     |    True   |      75     |      75      |\n",
      "|      14     |    True   |      76     |      76      |\n",
      "|      15     |    True   |      85     |      85      |\n",
      "|      16     |    True   |      86     |      86      |\n",
      "|      17     |    True   |      95     |      95      |\n",
      "|      18     |    True   |      96     |      96      |\n",
      "|      19     |    True   |     109     |     106      |\n",
      "|      20     |   False   |      0      |     107      |\n",
      "+-------------+-----------+-------------+--------------+\n"
     ]
    }
   ],
   "source": [
    "# now executing the order\n",
    "table = PrettyTable(['OrderNumber','Accepting', \"Buyer's ETA\",\"Seller's ETA\"])\n",
    "\n",
    "for i,j in enumerate(list(zip(acceptance_list,eta_list))[:-2]):\n",
    "    if(j[0]==False):\n",
    "#         print(i+1,j[0],0)\n",
    "        table.add_row([i+1,j[0],0,j[1]])\n",
    "        contract_instance.functions.senderETA(i+1,j[1]).transact({'from':sender_address})\n",
    "        contract_instance.functions.receiverConsignement(i+1,j[0],0).transact({'from':receiver_address})\n",
    "    else:\n",
    "#         print(i+1,j[0],j[1])\n",
    "        table.add_row([i+1,j[0],j[1],j[1]])\n",
    "        contract_instance.functions.senderETA(i+1,j[1]).transact({'from':sender_address})\n",
    "        contract_instance.functions.receiverConsignement(i+1,j[0],j[1]).transact({'from':receiver_address})\n",
    "\n",
    "table.add_row([19,True,109,106])\n",
    "table.add_row([20,False,0,107])\n",
    "contract_instance.functions.senderETA(19,106).transact({'from':sender_address})\n",
    "contract_instance.functions.receiverConsignement(19,True,109).transact({'from':receiver_address})\n",
    "contract_instance.functions.senderETA(20,106).transact({'from':sender_address})\n",
    "contract_instance.functions.receiverConsignement(20,False,0).transact({'from':receiver_address})\n",
    "\n",
    "print(table)  "
   ]
  },
  {
   "cell_type": "code",
   "execution_count": 95,
   "metadata": {
    "slideshow": {
     "slide_type": "slide"
    }
   },
   "outputs": [
    {
     "name": "stdout",
     "output_type": "stream",
     "text": [
      "VM Exception while processing transaction: revert Decision is Made!\n",
      "VM Exception while processing transaction: revert Decision is Made!\n",
      "VM Exception while processing transaction: revert Decision is Made!\n",
      "VM Exception while processing transaction: revert Decision is Made!\n"
     ]
    }
   ],
   "source": [
    "# Finalizing the Deal (of orderbook)\n",
    "total_orders_received = contract_instance.functions.N().call() #both accepted and rejected\n",
    "\n",
    "for i in range(len(acceptance_list)):\n",
    "    try:\n",
    "        contract_instance.functions.settingFlagDecision(i+1).transact({'from':receiver_address})\n",
    "    except ValueError as e:\n",
    "        print(ast.literal_eval(str(e))['message'])"
   ]
  },
  {
   "cell_type": "code",
   "execution_count": 96,
   "metadata": {
    "slideshow": {
     "slide_type": "slide"
    }
   },
   "outputs": [
    {
     "name": "stdout",
     "output_type": "stream",
     "text": [
      "\n",
      "N                    : 20\n",
      "s                    : 15\n",
      "f                    : 4\n",
      "d                    : 1\n",
      "flagContinue         : False\n",
      "\n"
     ]
    }
   ],
   "source": [
    "\n",
    "\n",
    "print(f'''\n",
    "N                    : {contract_instance.functions.N().call()}\n",
    "s                    : {contract_instance.functions.s().call()}\n",
    "f                    : {contract_instance.functions.f().call()}\n",
    "d                    : {contract_instance.functions.d().call()}\n",
    "flagContinue         : {contract_instance.functions.flagContinue().call()}\n",
    "''')"
   ]
  },
  {
   "cell_type": "markdown",
   "metadata": {
    "slideshow": {
     "slide_type": "slide"
    }
   },
   "source": [
    "# Part 5.3: Resolving the dispute"
   ]
  },
  {
   "cell_type": "markdown",
   "metadata": {
    "slideshow": {
     "slide_type": "slide"
    }
   },
   "source": [
    "<p>In order to resolve dispute between Sender and Buyer for ETA, there is an off-chain agreement between the two and they agree on some ETA, both entities'signature is added on the blockchain and the issue is resolved. <p>\n",
    "    \n",
    "<p>In order to resolve the dispute, both's Signature is necessary, else it will throw error.</p>"
   ]
  },
  {
   "cell_type": "code",
   "execution_count": 97,
   "metadata": {
    "slideshow": {
     "slide_type": "slide"
    }
   },
   "outputs": [
    {
     "name": "stdout",
     "output_type": "stream",
     "text": [
      "Transaction Hash: 0xb85a1aead31a9ee39a95b1cc12672100073ac5503ef68b33a6f26cc5bb38a410\n",
      "Transaction Hash: 0x701d6ed5bfe2683827ddfa85f3b36dc4a601d06525b438a275b5dfa8c7880fd8\n"
     ]
    }
   ],
   "source": [
    "disputed_Consignment_number = 19\n",
    "\n",
    "# Taking Seller's Signature  \n",
    "_ = contract_instance.functions.sallySignature(disputed_Consignment_number).transact({'from':sender_address})\n",
    "print(\"Transaction Hash:\",_.hex())\n",
    "# Taking Buyer's Signature\n",
    "_ = contract_instance.functions.RobSignature(disputed_Consignment_number).transact({'from':receiver_address})\n",
    "print(\"Transaction Hash:\",_.hex())\n",
    "\n"
   ]
  },
  {
   "cell_type": "code",
   "execution_count": 98,
   "metadata": {
    "slideshow": {
     "slide_type": "slide"
    }
   },
   "outputs": [
    {
     "name": "stdout",
     "output_type": "stream",
     "text": [
      "Transaction Hash: 0xbb9b628f49ec8d6f24b9b870307d54ca24f54091c71792f8cd55ed4015d36539\n"
     ]
    }
   ],
   "source": [
    "# Resolving Dispute as \"True\"\n",
    "_ = contract_instance.functions.resolveDispute(disputed_Consignment_number,True).transact({'from':receiver_address})\n",
    "print(\"Transaction Hash:\",_.hex())"
   ]
  },
  {
   "cell_type": "code",
   "execution_count": 99,
   "metadata": {
    "slideshow": {
     "slide_type": "slide"
    }
   },
   "outputs": [
    {
     "name": "stdout",
     "output_type": "stream",
     "text": [
      "\n",
      "N                    : 20\n",
      "s                    : 16\n",
      "f                    : 4\n",
      "d                    : 0\n",
      "flagContinue         : False\n",
      "\n"
     ]
    }
   ],
   "source": [
    "print(f'''\n",
    "N                    : {contract_instance.functions.N().call()}\n",
    "s                    : {contract_instance.functions.s().call()}\n",
    "f                    : {contract_instance.functions.f().call()}\n",
    "d                    : {contract_instance.functions.d().call()}\n",
    "flagContinue         : {contract_instance.functions.flagContinue().call()}\n",
    "''')"
   ]
  },
  {
   "cell_type": "code",
   "execution_count": 100,
   "metadata": {
    "slideshow": {
     "slide_type": "slide"
    }
   },
   "outputs": [
    {
     "name": "stdout",
     "output_type": "stream",
     "text": [
      "True\n"
     ]
    }
   ],
   "source": [
    "#verification\n",
    "assert(contract_instance.functions.N().call() == contract_instance.functions.s().call() + contract_instance.functions.f().call() + contract_instance.functions.d().call())\n",
    "print(True)"
   ]
  },
  {
   "cell_type": "code",
   "execution_count": null,
   "metadata": {},
   "outputs": [],
   "source": []
  },
  {
   "cell_type": "code",
   "execution_count": null,
   "metadata": {},
   "outputs": [],
   "source": []
  }
 ],
 "metadata": {
  "celltoolbar": "Slideshow",
  "kernelspec": {
   "display_name": "Python 3",
   "language": "python",
   "name": "python3"
  },
  "language_info": {
   "codemirror_mode": {
    "name": "ipython",
    "version": 3
   },
   "file_extension": ".py",
   "mimetype": "text/x-python",
   "name": "python",
   "nbconvert_exporter": "python",
   "pygments_lexer": "ipython3",
   "version": "3.7.6"
  }
 },
 "nbformat": 4,
 "nbformat_minor": 4
}
